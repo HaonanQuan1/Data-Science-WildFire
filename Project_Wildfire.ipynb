{
 "cells": [
  {
   "cell_type": "code",
   "execution_count": 282,
   "metadata": {},
   "outputs": [],
   "source": [
    "import sqlite3\n",
    "import pandas as pd\n",
    "conn = sqlite3.connect('FPA_FOD_20170508.sqlite')\n",
    "df = pd.read_sql(\n",
    "                       \"\"\"\n",
    "                       \n",
    "                        SELECT *\n",
    "                        from fires \n",
    "                        \n",
    "                       \"\"\", con=conn)"
   ]
  },
  {
   "cell_type": "code",
   "execution_count": 2,
   "metadata": {},
   "outputs": [
    {
     "data": {
      "text/html": [
       "<div>\n",
       "<style scoped>\n",
       "    .dataframe tbody tr th:only-of-type {\n",
       "        vertical-align: middle;\n",
       "    }\n",
       "\n",
       "    .dataframe tbody tr th {\n",
       "        vertical-align: top;\n",
       "    }\n",
       "\n",
       "    .dataframe thead th {\n",
       "        text-align: right;\n",
       "    }\n",
       "</style>\n",
       "<table border=\"1\" class=\"dataframe\">\n",
       "  <thead>\n",
       "    <tr style=\"text-align: right;\">\n",
       "      <th></th>\n",
       "      <th>OBJECTID</th>\n",
       "      <th>FOD_ID</th>\n",
       "      <th>FPA_ID</th>\n",
       "      <th>SOURCE_SYSTEM_TYPE</th>\n",
       "      <th>SOURCE_SYSTEM</th>\n",
       "      <th>NWCG_REPORTING_AGENCY</th>\n",
       "      <th>NWCG_REPORTING_UNIT_ID</th>\n",
       "      <th>NWCG_REPORTING_UNIT_NAME</th>\n",
       "      <th>SOURCE_REPORTING_UNIT</th>\n",
       "      <th>SOURCE_REPORTING_UNIT_NAME</th>\n",
       "      <th>...</th>\n",
       "      <th>FIRE_SIZE_CLASS</th>\n",
       "      <th>LATITUDE</th>\n",
       "      <th>LONGITUDE</th>\n",
       "      <th>OWNER_CODE</th>\n",
       "      <th>OWNER_DESCR</th>\n",
       "      <th>STATE</th>\n",
       "      <th>COUNTY</th>\n",
       "      <th>FIPS_CODE</th>\n",
       "      <th>FIPS_NAME</th>\n",
       "      <th>Shape</th>\n",
       "    </tr>\n",
       "  </thead>\n",
       "  <tbody>\n",
       "    <tr>\n",
       "      <th>0</th>\n",
       "      <td>1</td>\n",
       "      <td>1</td>\n",
       "      <td>FS-1418826</td>\n",
       "      <td>FED</td>\n",
       "      <td>FS-FIRESTAT</td>\n",
       "      <td>FS</td>\n",
       "      <td>USCAPNF</td>\n",
       "      <td>Plumas National Forest</td>\n",
       "      <td>0511</td>\n",
       "      <td>Plumas National Forest</td>\n",
       "      <td>...</td>\n",
       "      <td>A</td>\n",
       "      <td>40.036944</td>\n",
       "      <td>-121.005833</td>\n",
       "      <td>5.0</td>\n",
       "      <td>USFS</td>\n",
       "      <td>CA</td>\n",
       "      <td>63</td>\n",
       "      <td>063</td>\n",
       "      <td>Plumas</td>\n",
       "      <td>b'\\x00\\x01\\xad\\x10\\x00\\x00\\xe8d\\xc2\\x92_@^\\xc0...</td>\n",
       "    </tr>\n",
       "    <tr>\n",
       "      <th>1</th>\n",
       "      <td>2</td>\n",
       "      <td>2</td>\n",
       "      <td>FS-1418827</td>\n",
       "      <td>FED</td>\n",
       "      <td>FS-FIRESTAT</td>\n",
       "      <td>FS</td>\n",
       "      <td>USCAENF</td>\n",
       "      <td>Eldorado National Forest</td>\n",
       "      <td>0503</td>\n",
       "      <td>Eldorado National Forest</td>\n",
       "      <td>...</td>\n",
       "      <td>A</td>\n",
       "      <td>38.933056</td>\n",
       "      <td>-120.404444</td>\n",
       "      <td>5.0</td>\n",
       "      <td>USFS</td>\n",
       "      <td>CA</td>\n",
       "      <td>61</td>\n",
       "      <td>061</td>\n",
       "      <td>Placer</td>\n",
       "      <td>b'\\x00\\x01\\xad\\x10\\x00\\x00T\\xb6\\xeej\\xe2\\x19^\\...</td>\n",
       "    </tr>\n",
       "    <tr>\n",
       "      <th>2</th>\n",
       "      <td>3</td>\n",
       "      <td>3</td>\n",
       "      <td>FS-1418835</td>\n",
       "      <td>FED</td>\n",
       "      <td>FS-FIRESTAT</td>\n",
       "      <td>FS</td>\n",
       "      <td>USCAENF</td>\n",
       "      <td>Eldorado National Forest</td>\n",
       "      <td>0503</td>\n",
       "      <td>Eldorado National Forest</td>\n",
       "      <td>...</td>\n",
       "      <td>A</td>\n",
       "      <td>38.984167</td>\n",
       "      <td>-120.735556</td>\n",
       "      <td>13.0</td>\n",
       "      <td>STATE OR PRIVATE</td>\n",
       "      <td>CA</td>\n",
       "      <td>17</td>\n",
       "      <td>017</td>\n",
       "      <td>El Dorado</td>\n",
       "      <td>b'\\x00\\x01\\xad\\x10\\x00\\x00\\xd0\\xa5\\xa0W\\x13/^\\...</td>\n",
       "    </tr>\n",
       "    <tr>\n",
       "      <th>3</th>\n",
       "      <td>4</td>\n",
       "      <td>4</td>\n",
       "      <td>FS-1418845</td>\n",
       "      <td>FED</td>\n",
       "      <td>FS-FIRESTAT</td>\n",
       "      <td>FS</td>\n",
       "      <td>USCAENF</td>\n",
       "      <td>Eldorado National Forest</td>\n",
       "      <td>0503</td>\n",
       "      <td>Eldorado National Forest</td>\n",
       "      <td>...</td>\n",
       "      <td>A</td>\n",
       "      <td>38.559167</td>\n",
       "      <td>-119.913333</td>\n",
       "      <td>5.0</td>\n",
       "      <td>USFS</td>\n",
       "      <td>CA</td>\n",
       "      <td>3</td>\n",
       "      <td>003</td>\n",
       "      <td>Alpine</td>\n",
       "      <td>b'\\x00\\x01\\xad\\x10\\x00\\x00\\x94\\xac\\xa3\\rt\\xfa]...</td>\n",
       "    </tr>\n",
       "    <tr>\n",
       "      <th>4</th>\n",
       "      <td>5</td>\n",
       "      <td>5</td>\n",
       "      <td>FS-1418847</td>\n",
       "      <td>FED</td>\n",
       "      <td>FS-FIRESTAT</td>\n",
       "      <td>FS</td>\n",
       "      <td>USCAENF</td>\n",
       "      <td>Eldorado National Forest</td>\n",
       "      <td>0503</td>\n",
       "      <td>Eldorado National Forest</td>\n",
       "      <td>...</td>\n",
       "      <td>A</td>\n",
       "      <td>38.559167</td>\n",
       "      <td>-119.933056</td>\n",
       "      <td>5.0</td>\n",
       "      <td>USFS</td>\n",
       "      <td>CA</td>\n",
       "      <td>3</td>\n",
       "      <td>003</td>\n",
       "      <td>Alpine</td>\n",
       "      <td>b'\\x00\\x01\\xad\\x10\\x00\\x00@\\xe3\\xaa.\\xb7\\xfb]\\...</td>\n",
       "    </tr>\n",
       "  </tbody>\n",
       "</table>\n",
       "<p>5 rows × 39 columns</p>\n",
       "</div>"
      ],
      "text/plain": [
       "   OBJECTID  FOD_ID      FPA_ID SOURCE_SYSTEM_TYPE SOURCE_SYSTEM  \\\n",
       "0         1       1  FS-1418826                FED   FS-FIRESTAT   \n",
       "1         2       2  FS-1418827                FED   FS-FIRESTAT   \n",
       "2         3       3  FS-1418835                FED   FS-FIRESTAT   \n",
       "3         4       4  FS-1418845                FED   FS-FIRESTAT   \n",
       "4         5       5  FS-1418847                FED   FS-FIRESTAT   \n",
       "\n",
       "  NWCG_REPORTING_AGENCY NWCG_REPORTING_UNIT_ID  NWCG_REPORTING_UNIT_NAME  \\\n",
       "0                    FS                USCAPNF    Plumas National Forest   \n",
       "1                    FS                USCAENF  Eldorado National Forest   \n",
       "2                    FS                USCAENF  Eldorado National Forest   \n",
       "3                    FS                USCAENF  Eldorado National Forest   \n",
       "4                    FS                USCAENF  Eldorado National Forest   \n",
       "\n",
       "  SOURCE_REPORTING_UNIT SOURCE_REPORTING_UNIT_NAME  ... FIRE_SIZE_CLASS  \\\n",
       "0                  0511     Plumas National Forest  ...               A   \n",
       "1                  0503   Eldorado National Forest  ...               A   \n",
       "2                  0503   Eldorado National Forest  ...               A   \n",
       "3                  0503   Eldorado National Forest  ...               A   \n",
       "4                  0503   Eldorado National Forest  ...               A   \n",
       "\n",
       "    LATITUDE   LONGITUDE OWNER_CODE       OWNER_DESCR STATE COUNTY FIPS_CODE  \\\n",
       "0  40.036944 -121.005833        5.0              USFS    CA     63       063   \n",
       "1  38.933056 -120.404444        5.0              USFS    CA     61       061   \n",
       "2  38.984167 -120.735556       13.0  STATE OR PRIVATE    CA     17       017   \n",
       "3  38.559167 -119.913333        5.0              USFS    CA      3       003   \n",
       "4  38.559167 -119.933056        5.0              USFS    CA      3       003   \n",
       "\n",
       "   FIPS_NAME                                              Shape  \n",
       "0     Plumas  b'\\x00\\x01\\xad\\x10\\x00\\x00\\xe8d\\xc2\\x92_@^\\xc0...  \n",
       "1     Placer  b'\\x00\\x01\\xad\\x10\\x00\\x00T\\xb6\\xeej\\xe2\\x19^\\...  \n",
       "2  El Dorado  b'\\x00\\x01\\xad\\x10\\x00\\x00\\xd0\\xa5\\xa0W\\x13/^\\...  \n",
       "3     Alpine  b'\\x00\\x01\\xad\\x10\\x00\\x00\\x94\\xac\\xa3\\rt\\xfa]...  \n",
       "4     Alpine  b'\\x00\\x01\\xad\\x10\\x00\\x00@\\xe3\\xaa.\\xb7\\xfb]\\...  \n",
       "\n",
       "[5 rows x 39 columns]"
      ]
     },
     "execution_count": 2,
     "metadata": {},
     "output_type": "execute_result"
    }
   ],
   "source": [
    "df.head()"
   ]
  },
  {
   "cell_type": "code",
   "execution_count": 3,
   "metadata": {},
   "outputs": [],
   "source": [
    "import sqlite3\n",
    "import pandas as pd\n",
    "import matplotlib.pyplot as plt\n",
    "import numpy as np\n",
    "\n",
    "from sklearn import tree, preprocessing\n",
    "import sklearn.ensemble as ske\n",
    "from sklearn.model_selection import train_test_split"
   ]
  },
  {
   "cell_type": "code",
   "execution_count": 304,
   "metadata": {},
   "outputs": [],
   "source": [
    "import random\n",
    "import seaborn as sns\n",
    "import matplotlib.pyplot as plt\n",
    "from sklearn.linear_model import LinearRegression, Ridge\n",
    "import statsmodels.api as sm\n",
    "from scipy import stats\n",
    "import sklearn as sk\n",
    "from sklearn.linear_model import LogisticRegression\n",
    "from sklearn.model_selection import cross_val_score\n",
    "from statsmodels.stats.outliers_influence import variance_inflation_factor\n",
    "import statsmodels.formula.api as smf\n",
    "from sklearn.datasets import make_blobs\n",
    "from sklearn.tree import DecisionTreeClassifier\n",
    "from sklearn.ensemble import RandomForestClassifier\n",
    "from sklearn.ensemble import RandomForestRegressor\n"
   ]
  },
  {
   "cell_type": "code",
   "execution_count": 15,
   "metadata": {},
   "outputs": [],
   "source": [
    "# df3=pd.read_sql_query(\"select * from fires\",conn)\n",
    "# df3.head()"
   ]
  },
  {
   "cell_type": "code",
   "execution_count": 18,
   "metadata": {},
   "outputs": [],
   "source": [
    "# df4 = pd.read_sql_query(\"SELECT FIRE_CODE,FIRE_NAME,FIRE_YEAR,DISCOVERY_DATE,DISCOVERY_DOY,STAT_CAUSE_CODE,STAT_CAUSE_DESCR,FIRE_SIZE,FIRE_SIZE_CLASS,LATITUDE,LONGITUDE,STATE,COUNTY FROM 'Fires'\", conn)\n",
    "# print(df4.head())"
   ]
  },
  {
   "cell_type": "code",
   "execution_count": 23,
   "metadata": {},
   "outputs": [
    {
     "name": "stdout",
     "output_type": "stream",
     "text": [
      "  FIRE_CODE FIRE_NAME  FIRE_YEAR STAT_CAUSE_DESCR   LATITUDE   LONGITUDE  \\\n",
      "0      BJ8K  FOUNTAIN       2005    Miscellaneous  40.036944 -121.005833   \n",
      "1      AAC0    PIGEON       2004        Lightning  38.933056 -120.404444   \n",
      "2      A32W     SLACK       2004   Debris Burning  38.984167 -120.735556   \n",
      "3      None      DEER       2004        Lightning  38.559167 -119.913333   \n",
      "4      None  STEVENOT       2004        Lightning  38.559167 -119.933056   \n",
      "\n",
      "  STATE  FIRE_SIZE FIRE_SIZE_CLASS  \n",
      "0    CA       0.10               A  \n",
      "1    CA       0.25               A  \n",
      "2    CA       0.10               A  \n",
      "3    CA       0.10               A  \n",
      "4    CA       0.10               A  \n"
     ]
    }
   ],
   "source": [
    "data = pd.read_sql_query(\"SELECT Fire_Code,fire_name,FIRE_YEAR,STAT_CAUSE_DESCR,LATITUDE,LONGITUDE,STATE,FIRE_SIZE,FIRE_SIZE_CLASS FROM 'Fires'\", conn)\n",
    "print(data.head())"
   ]
  },
  {
   "cell_type": "code",
   "execution_count": 24,
   "metadata": {},
   "outputs": [
    {
     "data": {
      "text/plain": [
       "(1880465, 9)"
      ]
     },
     "execution_count": 24,
     "metadata": {},
     "output_type": "execute_result"
    }
   ],
   "source": [
    "data.shape"
   ]
  },
  {
   "cell_type": "code",
   "execution_count": 36,
   "metadata": {},
   "outputs": [
    {
     "data": {
      "text/plain": [
       "<bound method DataFrame.info of         FIRE_CODE                  FIRE_NAME  FIRE_YEAR   STAT_CAUSE_DESCR  \\\n",
       "0            BJ8K                   FOUNTAIN       2005      Miscellaneous   \n",
       "1            AAC0                     PIGEON       2004          Lightning   \n",
       "2            A32W                      SLACK       2004     Debris Burning   \n",
       "3            None                       DEER       2004          Lightning   \n",
       "4            None                   STEVENOT       2004          Lightning   \n",
       "...           ...                        ...        ...                ...   \n",
       "1880460      None                   ODESSA 2       2015  Missing/Undefined   \n",
       "1880461      None                       None       2015      Miscellaneous   \n",
       "1880462      None                       None       2015  Missing/Undefined   \n",
       "1880463      None                       None       2015  Missing/Undefined   \n",
       "1880464      None  BARKER BL  BIG_BEAR_LAKE_       2015      Miscellaneous   \n",
       "\n",
       "          LATITUDE   LONGITUDE STATE  FIRE_SIZE FIRE_SIZE_CLASS DISCOVER_DATE  \\\n",
       "0        40.036944 -121.005833    CA       0.10               A    2005-02-02   \n",
       "1        38.933056 -120.404444    CA       0.25               A    2004-05-12   \n",
       "2        38.984167 -120.735556    CA       0.10               A    2004-05-31   \n",
       "3        38.559167 -119.913333    CA       0.10               A    2004-06-28   \n",
       "4        38.559167 -119.933056    CA       0.10               A    2004-06-28   \n",
       "...            ...         ...   ...        ...             ...           ...   \n",
       "1880460  40.481637 -122.389375    CA       0.01               A    2015-09-26   \n",
       "1880461  37.617619 -120.938570    CA       0.20               A    2015-10-05   \n",
       "1880462  37.617619 -120.938570    CA       0.10               A    2015-05-02   \n",
       "1880463  37.672235 -120.898356    CA       2.00               B    2015-10-14   \n",
       "1880464  34.263217 -116.830950    CA       0.10               A    2015-03-14   \n",
       "\n",
       "        CONTROL_DATE  \n",
       "0         2005-02-02  \n",
       "1         2004-05-12  \n",
       "2         2004-05-31  \n",
       "3         2004-07-03  \n",
       "4         2004-07-03  \n",
       "...              ...  \n",
       "1880460   2015-09-26  \n",
       "1880461          NaT  \n",
       "1880462          NaT  \n",
       "1880463          NaT  \n",
       "1880464          NaT  \n",
       "\n",
       "[1880465 rows x 11 columns]>"
      ]
     },
     "execution_count": 36,
     "metadata": {},
     "output_type": "execute_result"
    }
   ],
   "source": [
    "data.info"
   ]
  },
  {
   "cell_type": "code",
   "execution_count": 26,
   "metadata": {},
   "outputs": [
    {
     "data": {
      "text/plain": [
       "FIRE_CODE           1555636\n",
       "FIRE_NAME            957189\n",
       "FIRE_SIZE_CLASS           0\n",
       "FIRE_SIZE                 0\n",
       "STATE                     0\n",
       "LONGITUDE                 0\n",
       "LATITUDE                  0\n",
       "STAT_CAUSE_DESCR          0\n",
       "FIRE_YEAR                 0\n",
       "dtype: int64"
      ]
     },
     "execution_count": 26,
     "metadata": {},
     "output_type": "execute_result"
    }
   ],
   "source": [
    "total = data.isnull().sum().sort_values(ascending=False) \n",
    "total"
   ]
  },
  {
   "cell_type": "code",
   "execution_count": 27,
   "metadata": {},
   "outputs": [
    {
     "name": "stdout",
     "output_type": "stream",
     "text": [
      "  FIRE_CODE FIRE_NAME  FIRE_YEAR STAT_CAUSE_DESCR   LATITUDE   LONGITUDE  \\\n",
      "0      BJ8K  FOUNTAIN       2005    Miscellaneous  40.036944 -121.005833   \n",
      "1      AAC0    PIGEON       2004        Lightning  38.933056 -120.404444   \n",
      "2      A32W     SLACK       2004   Debris Burning  38.984167 -120.735556   \n",
      "3      None      DEER       2004        Lightning  38.559167 -119.913333   \n",
      "4      None  STEVENOT       2004        Lightning  38.559167 -119.933056   \n",
      "\n",
      "  STATE  FIRE_SIZE FIRE_SIZE_CLASS DISCOVER_DATE  \n",
      "0    CA       0.10               A    2005-02-02  \n",
      "1    CA       0.25               A    2004-05-12  \n",
      "2    CA       0.10               A    2004-05-31  \n",
      "3    CA       0.10               A    2004-06-28  \n",
      "4    CA       0.10               A    2004-06-28  \n"
     ]
    }
   ],
   "source": [
    "data['DISCOVER_DATE'] = pd.to_datetime(df['DISCOVERY_DATE'] - pd.Timestamp(0).to_julian_date(), unit='D')\n",
    "print(data.head())"
   ]
  },
  {
   "cell_type": "code",
   "execution_count": 28,
   "metadata": {},
   "outputs": [
    {
     "name": "stdout",
     "output_type": "stream",
     "text": [
      "  FIRE_CODE FIRE_NAME  FIRE_YEAR STAT_CAUSE_DESCR   LATITUDE   LONGITUDE  \\\n",
      "0      BJ8K  FOUNTAIN       2005    Miscellaneous  40.036944 -121.005833   \n",
      "1      AAC0    PIGEON       2004        Lightning  38.933056 -120.404444   \n",
      "2      A32W     SLACK       2004   Debris Burning  38.984167 -120.735556   \n",
      "3      None      DEER       2004        Lightning  38.559167 -119.913333   \n",
      "4      None  STEVENOT       2004        Lightning  38.559167 -119.933056   \n",
      "\n",
      "  STATE  FIRE_SIZE FIRE_SIZE_CLASS DISCOVER_DATE CONTROL_DATE  \n",
      "0    CA       0.10               A    2005-02-02   2005-02-02  \n",
      "1    CA       0.25               A    2004-05-12   2004-05-12  \n",
      "2    CA       0.10               A    2004-05-31   2004-05-31  \n",
      "3    CA       0.10               A    2004-06-28   2004-07-03  \n",
      "4    CA       0.10               A    2004-06-28   2004-07-03  \n"
     ]
    }
   ],
   "source": [
    "data['CONTROL_DATE'] = pd.to_datetime(df['CONT_DATE'] - pd.Timestamp(0).to_julian_date(), unit='D')\n",
    "print(data.head())"
   ]
  },
  {
   "cell_type": "code",
   "execution_count": 11,
   "metadata": {},
   "outputs": [
    {
     "name": "stdout",
     "output_type": "stream",
     "text": [
      "    FIRE_YEAR   fires\n",
      "0        1992   67975\n",
      "1        1993   61989\n",
      "2        1994   75955\n",
      "3        1995   71472\n",
      "4        1996   75574\n",
      "5        1997   61450\n",
      "6        1998   68370\n",
      "7        1999   89363\n",
      "8        2000   96416\n",
      "9        2001   86587\n",
      "10       2002   75656\n",
      "11       2003   68261\n",
      "12       2004   69279\n",
      "13       2005   88604\n",
      "14       2006  114004\n",
      "15       2007   95573\n",
      "16       2008   85378\n",
      "17       2009   78325\n",
      "18       2010   79889\n",
      "19       2011   90552\n",
      "20       2012   72769\n",
      "21       2013   64780\n",
      "22       2014   67753\n",
      "23       2015   74491\n"
     ]
    }
   ],
   "source": [
    "data_year = pd.read_sql_query(\"SELECT fire_year,count(fire_year)as fires FROM 'Fires' group by fire_year\", conn)\n",
    "print(data_year)"
   ]
  },
  {
   "cell_type": "code",
   "execution_count": 12,
   "metadata": {},
   "outputs": [
    {
     "data": {
      "image/png": "[encoded data removed]",
      "text/plain": [
       "<Figure size 504x288 with 1 Axes>"
      ]
     },
     "metadata": {
      "needs_background": "light"
     },
     "output_type": "display_data"
    }
   ],
   "source": [
    "count = [67975,61989,75955,71472,75574,61450,68370,89363,96416,86587,75656,68261,69279,88604,114004,95573,85378,78325,79889,90552,72769,64780,67753,74491]\n",
    "\n",
    "month = [1992,1993,1994,1995,1996,1997,1998,1999,2000,2001,2002,2003,2004,2005,2006,2007,2008,2009,2010,2011,2012,2013,2014,2015]\n",
    "fig, ax = plt.subplots(figsize=(7, 4))\n",
    "\n",
    "ax.plot(month, \n",
    "        count)\n",
    "ax.set(title = \"Average fires per year\",\n",
    "       xlabel = \"Year\",\n",
    "       ylabel = \"Total Fires\")\n",
    "plt.show()\n"
   ]
  },
  {
   "cell_type": "code",
   "execution_count": 13,
   "metadata": {},
   "outputs": [
    {
     "data": {
      "image/png": "[encoded data removed]",
      "text/plain": [
       "<Figure size 504x288 with 1 Axes>"
      ]
     },
     "metadata": {
      "needs_background": "light"
     },
     "output_type": "display_data"
    }
   ],
   "source": [
    "fig, ax = plt.subplots(figsize=(7, 4))\n",
    "ax.bar(month, \n",
    "        count,\n",
    "        color ='blue' )\n",
    "plt.show()"
   ]
  },
  {
   "cell_type": "code",
   "execution_count": 14,
   "metadata": {},
   "outputs": [
    {
     "name": "stdout",
     "output_type": "stream",
     "text": [
      "  FIRE_CODE FIRE_NAME  FIRE_YEAR STAT_CAUSE_DESCR   LATITUDE   LONGITUDE  \\\n",
      "0      BJ8K  FOUNTAIN       2005    Miscellaneous  40.036944 -121.005833   \n",
      "1      AAC0    PIGEON       2004        Lightning  38.933056 -120.404444   \n",
      "2      A32W     SLACK       2004   Debris Burning  38.984167 -120.735556   \n",
      "3      None      DEER       2004        Lightning  38.559167 -119.913333   \n",
      "4      None  STEVENOT       2004        Lightning  38.559167 -119.933056   \n",
      "\n",
      "  STATE  FIRE_SIZE FIRE_SIZE_CLASS DISCOVER_DATE CONTROL_DATE  \n",
      "0    CA       0.10               A    2005-02-02   2005-02-02  \n",
      "1    CA       0.25               A    2004-05-12   2004-05-12  \n",
      "2    CA       0.10               A    2004-05-31   2004-05-31  \n",
      "3    CA       0.10               A    2004-06-28   2004-07-03  \n",
      "4    CA       0.10               A    2004-06-28   2004-07-03  \n"
     ]
    }
   ],
   "source": [
    "print(data.head())"
   ]
  },
  {
   "cell_type": "code",
   "execution_count": 15,
   "metadata": {
    "scrolled": true
   },
   "outputs": [
    {
     "data": {
      "text/plain": [
       "Debris Burning       429028\n",
       "Miscellaneous        323805\n",
       "Arson                281455\n",
       "Lightning            278468\n",
       "Missing/Undefined    166723\n",
       "Equipment Use        147612\n",
       "Campfire              76139\n",
       "Children              61167\n",
       "Smoking               52869\n",
       "Railroad              33455\n",
       "Powerline             14448\n",
       "Fireworks             11500\n",
       "Structure              3796\n",
       "Name: STAT_CAUSE_DESCR, dtype: int64"
      ]
     },
     "execution_count": 15,
     "metadata": {},
     "output_type": "execute_result"
    }
   ],
   "source": [
    "data['STAT_CAUSE_DESCR'].value_counts()"
   ]
  },
  {
   "cell_type": "code",
   "execution_count": null,
   "metadata": {},
   "outputs": [],
   "source": []
  },
  {
   "cell_type": "code",
   "execution_count": 16,
   "metadata": {},
   "outputs": [
    {
     "data": {
      "text/plain": [
       "<matplotlib.axes._subplots.AxesSubplot at 0x219297b37c0>"
      ]
     },
     "execution_count": 16,
     "metadata": {},
     "output_type": "execute_result"
    },
    {
     "data": {
      "image/png": "[encoded data removed]",
      "text/plain": [
       "<Figure size 1512x432 with 2 Axes>"
      ]
     },
     "metadata": {
      "needs_background": "light"
     },
     "output_type": "display_data"
    }
   ],
   "source": [
    "fig, axes = plt.subplots(1,2, figsize=(21,6))\n",
    "sns.distplot(data['LATITUDE'], ax=axes[0])\n",
    "\n",
    "sns.distplot(data['LONGITUDE'], ax=axes[1])\n"
   ]
  },
  {
   "cell_type": "code",
   "execution_count": null,
   "metadata": {},
   "outputs": [],
   "source": []
  },
  {
   "cell_type": "code",
   "execution_count": 17,
   "metadata": {},
   "outputs": [
    {
     "data": {
      "text/plain": [
       "<matplotlib.axes._subplots.AxesSubplot at 0x2192b3121c0>"
      ]
     },
     "execution_count": 17,
     "metadata": {},
     "output_type": "execute_result"
    },
    {
     "data": {
      "image/png": "[encoded data removed]",
      "text/plain": [
       "<Figure size 432x288 with 1 Axes>"
      ]
     },
     "metadata": {
      "needs_background": "light"
     },
     "output_type": "display_data"
    }
   ],
   "source": [
    "sns.scatterplot(x= data['LATITUDE'], y=data['LONGITUDE'])"
   ]
  },
  {
   "cell_type": "code",
   "execution_count": 18,
   "metadata": {},
   "outputs": [
    {
     "data": {
      "text/plain": [
       "Text(0, 0.5, 'causes')"
      ]
     },
     "execution_count": 18,
     "metadata": {},
     "output_type": "execute_result"
    },
    {
     "data": {
      "image/png": "[encoded data removed]",
      "text/plain": [
       "<Figure size 1080x360 with 2 Axes>"
      ]
     },
     "metadata": {
      "needs_background": "light"
     },
     "output_type": "display_data"
    }
   ],
   "source": [
    "fig,ax=plt.subplots(1,2,figsize=(15,5))\n",
    "\n",
    "ax[0].scatter(y=data['STAT_CAUSE_DESCR'],x=data['LONGITUDE'],alpha=.5)\n",
    "ax[0].set_xlabel(xlabel='LONGITUDE')\n",
    "ax[0].set_ylabel(ylabel='causes')\n",
    "\n",
    "ax[1].scatter(y=data['STAT_CAUSE_DESCR'],x=data['LATITUDE'],alpha=.5)\n",
    "ax[1].set_xlabel(xlabel='LATITUDE')\n",
    "ax[1].set_ylabel(ylabel='causes')"
   ]
  },
  {
   "cell_type": "code",
   "execution_count": null,
   "metadata": {},
   "outputs": [],
   "source": []
  },
  {
   "cell_type": "code",
   "execution_count": 19,
   "metadata": {},
   "outputs": [],
   "source": [
    "data2=data"
   ]
  },
  {
   "cell_type": "code",
   "execution_count": 20,
   "metadata": {},
   "outputs": [
    {
     "data": {
      "text/html": [
       "<div>\n",
       "<style scoped>\n",
       "    .dataframe tbody tr th:only-of-type {\n",
       "        vertical-align: middle;\n",
       "    }\n",
       "\n",
       "    .dataframe tbody tr th {\n",
       "        vertical-align: top;\n",
       "    }\n",
       "\n",
       "    .dataframe thead th {\n",
       "        text-align: right;\n",
       "    }\n",
       "</style>\n",
       "<table border=\"1\" class=\"dataframe\">\n",
       "  <thead>\n",
       "    <tr style=\"text-align: right;\">\n",
       "      <th></th>\n",
       "      <th>FIRE_CODE</th>\n",
       "      <th>FIRE_NAME</th>\n",
       "      <th>FIRE_YEAR</th>\n",
       "      <th>STAT_CAUSE_DESCR</th>\n",
       "      <th>LATITUDE</th>\n",
       "      <th>LONGITUDE</th>\n",
       "      <th>STATE</th>\n",
       "      <th>FIRE_SIZE</th>\n",
       "      <th>FIRE_SIZE_CLASS</th>\n",
       "      <th>DISCOVER_DATE</th>\n",
       "      <th>CONTROL_DATE</th>\n",
       "    </tr>\n",
       "  </thead>\n",
       "  <tbody>\n",
       "    <tr>\n",
       "      <th>0</th>\n",
       "      <td>BJ8K</td>\n",
       "      <td>FOUNTAIN</td>\n",
       "      <td>2005</td>\n",
       "      <td>Miscellaneous</td>\n",
       "      <td>40.036944</td>\n",
       "      <td>-121.005833</td>\n",
       "      <td>CA</td>\n",
       "      <td>0.10</td>\n",
       "      <td>A</td>\n",
       "      <td>2005-02-02</td>\n",
       "      <td>2005-02-02</td>\n",
       "    </tr>\n",
       "    <tr>\n",
       "      <th>1</th>\n",
       "      <td>AAC0</td>\n",
       "      <td>PIGEON</td>\n",
       "      <td>2004</td>\n",
       "      <td>Lightning</td>\n",
       "      <td>38.933056</td>\n",
       "      <td>-120.404444</td>\n",
       "      <td>CA</td>\n",
       "      <td>0.25</td>\n",
       "      <td>A</td>\n",
       "      <td>2004-05-12</td>\n",
       "      <td>2004-05-12</td>\n",
       "    </tr>\n",
       "    <tr>\n",
       "      <th>2</th>\n",
       "      <td>A32W</td>\n",
       "      <td>SLACK</td>\n",
       "      <td>2004</td>\n",
       "      <td>Debris Burning</td>\n",
       "      <td>38.984167</td>\n",
       "      <td>-120.735556</td>\n",
       "      <td>CA</td>\n",
       "      <td>0.10</td>\n",
       "      <td>A</td>\n",
       "      <td>2004-05-31</td>\n",
       "      <td>2004-05-31</td>\n",
       "    </tr>\n",
       "    <tr>\n",
       "      <th>3</th>\n",
       "      <td>None</td>\n",
       "      <td>DEER</td>\n",
       "      <td>2004</td>\n",
       "      <td>Lightning</td>\n",
       "      <td>38.559167</td>\n",
       "      <td>-119.913333</td>\n",
       "      <td>CA</td>\n",
       "      <td>0.10</td>\n",
       "      <td>A</td>\n",
       "      <td>2004-06-28</td>\n",
       "      <td>2004-07-03</td>\n",
       "    </tr>\n",
       "    <tr>\n",
       "      <th>4</th>\n",
       "      <td>None</td>\n",
       "      <td>STEVENOT</td>\n",
       "      <td>2004</td>\n",
       "      <td>Lightning</td>\n",
       "      <td>38.559167</td>\n",
       "      <td>-119.933056</td>\n",
       "      <td>CA</td>\n",
       "      <td>0.10</td>\n",
       "      <td>A</td>\n",
       "      <td>2004-06-28</td>\n",
       "      <td>2004-07-03</td>\n",
       "    </tr>\n",
       "    <tr>\n",
       "      <th>...</th>\n",
       "      <td>...</td>\n",
       "      <td>...</td>\n",
       "      <td>...</td>\n",
       "      <td>...</td>\n",
       "      <td>...</td>\n",
       "      <td>...</td>\n",
       "      <td>...</td>\n",
       "      <td>...</td>\n",
       "      <td>...</td>\n",
       "      <td>...</td>\n",
       "      <td>...</td>\n",
       "    </tr>\n",
       "    <tr>\n",
       "      <th>1880460</th>\n",
       "      <td>None</td>\n",
       "      <td>ODESSA 2</td>\n",
       "      <td>2015</td>\n",
       "      <td>Missing/Undefined</td>\n",
       "      <td>40.481637</td>\n",
       "      <td>-122.389375</td>\n",
       "      <td>CA</td>\n",
       "      <td>0.01</td>\n",
       "      <td>A</td>\n",
       "      <td>2015-09-26</td>\n",
       "      <td>2015-09-26</td>\n",
       "    </tr>\n",
       "    <tr>\n",
       "      <th>1880461</th>\n",
       "      <td>None</td>\n",
       "      <td>None</td>\n",
       "      <td>2015</td>\n",
       "      <td>Miscellaneous</td>\n",
       "      <td>37.617619</td>\n",
       "      <td>-120.938570</td>\n",
       "      <td>CA</td>\n",
       "      <td>0.20</td>\n",
       "      <td>A</td>\n",
       "      <td>2015-10-05</td>\n",
       "      <td>NaT</td>\n",
       "    </tr>\n",
       "    <tr>\n",
       "      <th>1880462</th>\n",
       "      <td>None</td>\n",
       "      <td>None</td>\n",
       "      <td>2015</td>\n",
       "      <td>Missing/Undefined</td>\n",
       "      <td>37.617619</td>\n",
       "      <td>-120.938570</td>\n",
       "      <td>CA</td>\n",
       "      <td>0.10</td>\n",
       "      <td>A</td>\n",
       "      <td>2015-05-02</td>\n",
       "      <td>NaT</td>\n",
       "    </tr>\n",
       "    <tr>\n",
       "      <th>1880463</th>\n",
       "      <td>None</td>\n",
       "      <td>None</td>\n",
       "      <td>2015</td>\n",
       "      <td>Missing/Undefined</td>\n",
       "      <td>37.672235</td>\n",
       "      <td>-120.898356</td>\n",
       "      <td>CA</td>\n",
       "      <td>2.00</td>\n",
       "      <td>B</td>\n",
       "      <td>2015-10-14</td>\n",
       "      <td>NaT</td>\n",
       "    </tr>\n",
       "    <tr>\n",
       "      <th>1880464</th>\n",
       "      <td>None</td>\n",
       "      <td>BARKER BL  BIG_BEAR_LAKE_</td>\n",
       "      <td>2015</td>\n",
       "      <td>Miscellaneous</td>\n",
       "      <td>34.263217</td>\n",
       "      <td>-116.830950</td>\n",
       "      <td>CA</td>\n",
       "      <td>0.10</td>\n",
       "      <td>A</td>\n",
       "      <td>2015-03-14</td>\n",
       "      <td>NaT</td>\n",
       "    </tr>\n",
       "  </tbody>\n",
       "</table>\n",
       "<p>1880465 rows × 11 columns</p>\n",
       "</div>"
      ],
      "text/plain": [
       "        FIRE_CODE                  FIRE_NAME  FIRE_YEAR   STAT_CAUSE_DESCR  \\\n",
       "0            BJ8K                   FOUNTAIN       2005      Miscellaneous   \n",
       "1            AAC0                     PIGEON       2004          Lightning   \n",
       "2            A32W                      SLACK       2004     Debris Burning   \n",
       "3            None                       DEER       2004          Lightning   \n",
       "4            None                   STEVENOT       2004          Lightning   \n",
       "...           ...                        ...        ...                ...   \n",
       "1880460      None                   ODESSA 2       2015  Missing/Undefined   \n",
       "1880461      None                       None       2015      Miscellaneous   \n",
       "1880462      None                       None       2015  Missing/Undefined   \n",
       "1880463      None                       None       2015  Missing/Undefined   \n",
       "1880464      None  BARKER BL  BIG_BEAR_LAKE_       2015      Miscellaneous   \n",
       "\n",
       "          LATITUDE   LONGITUDE STATE  FIRE_SIZE FIRE_SIZE_CLASS DISCOVER_DATE  \\\n",
       "0        40.036944 -121.005833    CA       0.10               A    2005-02-02   \n",
       "1        38.933056 -120.404444    CA       0.25               A    2004-05-12   \n",
       "2        38.984167 -120.735556    CA       0.10               A    2004-05-31   \n",
       "3        38.559167 -119.913333    CA       0.10               A    2004-06-28   \n",
       "4        38.559167 -119.933056    CA       0.10               A    2004-06-28   \n",
       "...            ...         ...   ...        ...             ...           ...   \n",
       "1880460  40.481637 -122.389375    CA       0.01               A    2015-09-26   \n",
       "1880461  37.617619 -120.938570    CA       0.20               A    2015-10-05   \n",
       "1880462  37.617619 -120.938570    CA       0.10               A    2015-05-02   \n",
       "1880463  37.672235 -120.898356    CA       2.00               B    2015-10-14   \n",
       "1880464  34.263217 -116.830950    CA       0.10               A    2015-03-14   \n",
       "\n",
       "        CONTROL_DATE  \n",
       "0         2005-02-02  \n",
       "1         2004-05-12  \n",
       "2         2004-05-31  \n",
       "3         2004-07-03  \n",
       "4         2004-07-03  \n",
       "...              ...  \n",
       "1880460   2015-09-26  \n",
       "1880461          NaT  \n",
       "1880462          NaT  \n",
       "1880463          NaT  \n",
       "1880464          NaT  \n",
       "\n",
       "[1880465 rows x 11 columns]"
      ]
     },
     "execution_count": 20,
     "metadata": {},
     "output_type": "execute_result"
    }
   ],
   "source": [
    "data2"
   ]
  },
  {
   "cell_type": "code",
   "execution_count": 21,
   "metadata": {},
   "outputs": [
    {
     "name": "stdout",
     "output_type": "stream",
     "text": [
      "  FIRE_CODE FIRE_NAME  FIRE_YEAR  STAT_CAUSE_DESCR   LATITUDE   LONGITUDE  \\\n",
      "0      BJ8K  FOUNTAIN       2005                 7  40.036944 -121.005833   \n",
      "1      AAC0    PIGEON       2004                 6  38.933056 -120.404444   \n",
      "2      A32W     SLACK       2004                 3  38.984167 -120.735556   \n",
      "3      None      DEER       2004                 6  38.559167 -119.913333   \n",
      "4      None  STEVENOT       2004                 6  38.559167 -119.933056   \n",
      "\n",
      "   STATE  FIRE_SIZE FIRE_SIZE_CLASS DISCOVER_DATE CONTROL_DATE  \n",
      "0      4       0.10               A    2005-02-02   2005-02-02  \n",
      "1      4       0.25               A    2004-05-12   2004-05-12  \n",
      "2      4       0.10               A    2004-05-31   2004-05-31  \n",
      "3      4       0.10               A    2004-06-28   2004-07-03  \n",
      "4      4       0.10               A    2004-06-28   2004-07-03  \n"
     ]
    }
   ],
   "source": [
    "le = preprocessing.LabelEncoder()\n",
    "data2['STAT_CAUSE_DESCR'] = le.fit_transform(df['STAT_CAUSE_DESCR'])\n",
    "data2['STATE'] = le.fit_transform(df['STATE'])\n",
    "print(data2.head())"
   ]
  },
  {
   "cell_type": "code",
   "execution_count": null,
   "metadata": {},
   "outputs": [],
   "source": []
  },
  {
   "cell_type": "code",
   "execution_count": 29,
   "metadata": {},
   "outputs": [
    {
     "name": "stdout",
     "output_type": "stream",
     "text": [
      "   STATE\n",
      "0     AK\n",
      "1     AL\n",
      "2     AR\n",
      "3     AZ\n",
      "4     CA\n",
      "5     CO\n",
      "6     CT\n",
      "7     DC\n",
      "8     DE\n",
      "9     FL\n",
      "10    GA\n",
      "11    HI\n",
      "12    IA\n",
      "13    ID\n",
      "14    IL\n",
      "15    IN\n",
      "16    KS\n",
      "17    KY\n",
      "18    LA\n",
      "19    MA\n",
      "20    MD\n",
      "21    ME\n",
      "22    MI\n",
      "23    MN\n",
      "24    MO\n",
      "25    MS\n",
      "26    MT\n",
      "27    NC\n",
      "28    ND\n",
      "29    NE\n",
      "30    NH\n",
      "31    NJ\n",
      "32    NM\n",
      "33    NV\n",
      "34    NY\n",
      "35    OH\n",
      "36    OK\n",
      "37    OR\n",
      "38    PA\n",
      "39    PR\n",
      "40    RI\n",
      "41    SC\n",
      "42    SD\n",
      "43    TN\n",
      "44    TX\n",
      "45    UT\n",
      "46    VA\n",
      "47    VT\n",
      "48    WA\n",
      "49    WI\n",
      "50    WV\n",
      "51    WY\n"
     ]
    }
   ],
   "source": [
    "data_state= pd.read_sql_query(\"SELECT distinct state FROM 'Fires' order by state\", conn)\n",
    "print(data_state)"
   ]
  },
  {
   "cell_type": "code",
   "execution_count": 30,
   "metadata": {},
   "outputs": [
    {
     "name": "stdout",
     "output_type": "stream",
     "text": [
      "     STAT_CAUSE_DESCR\n",
      "0               Arson\n",
      "1            Campfire\n",
      "2            Children\n",
      "3      Debris Burning\n",
      "4       Equipment Use\n",
      "5           Fireworks\n",
      "6           Lightning\n",
      "7       Miscellaneous\n",
      "8   Missing/Undefined\n",
      "9           Powerline\n",
      "10           Railroad\n",
      "11            Smoking\n",
      "12          Structure\n"
     ]
    }
   ],
   "source": [
    "data_cause= pd.read_sql_query(\"SELECT distinct stat_cause_descr FROM 'Fires' order by stat_cause_descr\", conn)\n",
    "print(data_cause)"
   ]
  },
  {
   "cell_type": "code",
   "execution_count": 31,
   "metadata": {},
   "outputs": [
    {
     "data": {
      "text/html": [
       "<div>\n",
       "<style scoped>\n",
       "    .dataframe tbody tr th:only-of-type {\n",
       "        vertical-align: middle;\n",
       "    }\n",
       "\n",
       "    .dataframe tbody tr th {\n",
       "        vertical-align: top;\n",
       "    }\n",
       "\n",
       "    .dataframe thead th {\n",
       "        text-align: right;\n",
       "    }\n",
       "</style>\n",
       "<table border=\"1\" class=\"dataframe\">\n",
       "  <thead>\n",
       "    <tr style=\"text-align: right;\">\n",
       "      <th></th>\n",
       "      <th>FIRE_CODE</th>\n",
       "      <th>FIRE_NAME</th>\n",
       "      <th>FIRE_YEAR</th>\n",
       "      <th>STAT_CAUSE_DESCR</th>\n",
       "      <th>LATITUDE</th>\n",
       "      <th>LONGITUDE</th>\n",
       "      <th>STATE</th>\n",
       "      <th>FIRE_SIZE</th>\n",
       "      <th>FIRE_SIZE_CLASS</th>\n",
       "      <th>DISCOVER_DATE</th>\n",
       "      <th>CONTROL_DATE</th>\n",
       "    </tr>\n",
       "  </thead>\n",
       "  <tbody>\n",
       "    <tr>\n",
       "      <th>0</th>\n",
       "      <td>BJ8K</td>\n",
       "      <td>FOUNTAIN</td>\n",
       "      <td>2005</td>\n",
       "      <td>7</td>\n",
       "      <td>40.036944</td>\n",
       "      <td>-121.005833</td>\n",
       "      <td>4</td>\n",
       "      <td>0.10</td>\n",
       "      <td>A</td>\n",
       "      <td>2005-02-02</td>\n",
       "      <td>2005-02-02</td>\n",
       "    </tr>\n",
       "    <tr>\n",
       "      <th>1</th>\n",
       "      <td>AAC0</td>\n",
       "      <td>PIGEON</td>\n",
       "      <td>2004</td>\n",
       "      <td>6</td>\n",
       "      <td>38.933056</td>\n",
       "      <td>-120.404444</td>\n",
       "      <td>4</td>\n",
       "      <td>0.25</td>\n",
       "      <td>A</td>\n",
       "      <td>2004-05-12</td>\n",
       "      <td>2004-05-12</td>\n",
       "    </tr>\n",
       "    <tr>\n",
       "      <th>2</th>\n",
       "      <td>A32W</td>\n",
       "      <td>SLACK</td>\n",
       "      <td>2004</td>\n",
       "      <td>3</td>\n",
       "      <td>38.984167</td>\n",
       "      <td>-120.735556</td>\n",
       "      <td>4</td>\n",
       "      <td>0.10</td>\n",
       "      <td>A</td>\n",
       "      <td>2004-05-31</td>\n",
       "      <td>2004-05-31</td>\n",
       "    </tr>\n",
       "    <tr>\n",
       "      <th>3</th>\n",
       "      <td>None</td>\n",
       "      <td>DEER</td>\n",
       "      <td>2004</td>\n",
       "      <td>6</td>\n",
       "      <td>38.559167</td>\n",
       "      <td>-119.913333</td>\n",
       "      <td>4</td>\n",
       "      <td>0.10</td>\n",
       "      <td>A</td>\n",
       "      <td>2004-06-28</td>\n",
       "      <td>2004-07-03</td>\n",
       "    </tr>\n",
       "    <tr>\n",
       "      <th>4</th>\n",
       "      <td>None</td>\n",
       "      <td>STEVENOT</td>\n",
       "      <td>2004</td>\n",
       "      <td>6</td>\n",
       "      <td>38.559167</td>\n",
       "      <td>-119.933056</td>\n",
       "      <td>4</td>\n",
       "      <td>0.10</td>\n",
       "      <td>A</td>\n",
       "      <td>2004-06-28</td>\n",
       "      <td>2004-07-03</td>\n",
       "    </tr>\n",
       "    <tr>\n",
       "      <th>...</th>\n",
       "      <td>...</td>\n",
       "      <td>...</td>\n",
       "      <td>...</td>\n",
       "      <td>...</td>\n",
       "      <td>...</td>\n",
       "      <td>...</td>\n",
       "      <td>...</td>\n",
       "      <td>...</td>\n",
       "      <td>...</td>\n",
       "      <td>...</td>\n",
       "      <td>...</td>\n",
       "    </tr>\n",
       "    <tr>\n",
       "      <th>1880460</th>\n",
       "      <td>None</td>\n",
       "      <td>ODESSA 2</td>\n",
       "      <td>2015</td>\n",
       "      <td>8</td>\n",
       "      <td>40.481637</td>\n",
       "      <td>-122.389375</td>\n",
       "      <td>4</td>\n",
       "      <td>0.01</td>\n",
       "      <td>A</td>\n",
       "      <td>2015-09-26</td>\n",
       "      <td>2015-09-26</td>\n",
       "    </tr>\n",
       "    <tr>\n",
       "      <th>1880461</th>\n",
       "      <td>None</td>\n",
       "      <td>None</td>\n",
       "      <td>2015</td>\n",
       "      <td>7</td>\n",
       "      <td>37.617619</td>\n",
       "      <td>-120.938570</td>\n",
       "      <td>4</td>\n",
       "      <td>0.20</td>\n",
       "      <td>A</td>\n",
       "      <td>2015-10-05</td>\n",
       "      <td>NaT</td>\n",
       "    </tr>\n",
       "    <tr>\n",
       "      <th>1880462</th>\n",
       "      <td>None</td>\n",
       "      <td>None</td>\n",
       "      <td>2015</td>\n",
       "      <td>8</td>\n",
       "      <td>37.617619</td>\n",
       "      <td>-120.938570</td>\n",
       "      <td>4</td>\n",
       "      <td>0.10</td>\n",
       "      <td>A</td>\n",
       "      <td>2015-05-02</td>\n",
       "      <td>NaT</td>\n",
       "    </tr>\n",
       "    <tr>\n",
       "      <th>1880463</th>\n",
       "      <td>None</td>\n",
       "      <td>None</td>\n",
       "      <td>2015</td>\n",
       "      <td>8</td>\n",
       "      <td>37.672235</td>\n",
       "      <td>-120.898356</td>\n",
       "      <td>4</td>\n",
       "      <td>2.00</td>\n",
       "      <td>B</td>\n",
       "      <td>2015-10-14</td>\n",
       "      <td>NaT</td>\n",
       "    </tr>\n",
       "    <tr>\n",
       "      <th>1880464</th>\n",
       "      <td>None</td>\n",
       "      <td>BARKER BL  BIG_BEAR_LAKE_</td>\n",
       "      <td>2015</td>\n",
       "      <td>7</td>\n",
       "      <td>34.263217</td>\n",
       "      <td>-116.830950</td>\n",
       "      <td>4</td>\n",
       "      <td>0.10</td>\n",
       "      <td>A</td>\n",
       "      <td>2015-03-14</td>\n",
       "      <td>NaT</td>\n",
       "    </tr>\n",
       "  </tbody>\n",
       "</table>\n",
       "<p>1880465 rows × 11 columns</p>\n",
       "</div>"
      ],
      "text/plain": [
       "        FIRE_CODE                  FIRE_NAME  FIRE_YEAR  STAT_CAUSE_DESCR  \\\n",
       "0            BJ8K                   FOUNTAIN       2005                 7   \n",
       "1            AAC0                     PIGEON       2004                 6   \n",
       "2            A32W                      SLACK       2004                 3   \n",
       "3            None                       DEER       2004                 6   \n",
       "4            None                   STEVENOT       2004                 6   \n",
       "...           ...                        ...        ...               ...   \n",
       "1880460      None                   ODESSA 2       2015                 8   \n",
       "1880461      None                       None       2015                 7   \n",
       "1880462      None                       None       2015                 8   \n",
       "1880463      None                       None       2015                 8   \n",
       "1880464      None  BARKER BL  BIG_BEAR_LAKE_       2015                 7   \n",
       "\n",
       "          LATITUDE   LONGITUDE  STATE  FIRE_SIZE FIRE_SIZE_CLASS  \\\n",
       "0        40.036944 -121.005833      4       0.10               A   \n",
       "1        38.933056 -120.404444      4       0.25               A   \n",
       "2        38.984167 -120.735556      4       0.10               A   \n",
       "3        38.559167 -119.913333      4       0.10               A   \n",
       "4        38.559167 -119.933056      4       0.10               A   \n",
       "...            ...         ...    ...        ...             ...   \n",
       "1880460  40.481637 -122.389375      4       0.01               A   \n",
       "1880461  37.617619 -120.938570      4       0.20               A   \n",
       "1880462  37.617619 -120.938570      4       0.10               A   \n",
       "1880463  37.672235 -120.898356      4       2.00               B   \n",
       "1880464  34.263217 -116.830950      4       0.10               A   \n",
       "\n",
       "        DISCOVER_DATE CONTROL_DATE  \n",
       "0          2005-02-02   2005-02-02  \n",
       "1          2004-05-12   2004-05-12  \n",
       "2          2004-05-31   2004-05-31  \n",
       "3          2004-06-28   2004-07-03  \n",
       "4          2004-06-28   2004-07-03  \n",
       "...               ...          ...  \n",
       "1880460    2015-09-26   2015-09-26  \n",
       "1880461    2015-10-05          NaT  \n",
       "1880462    2015-05-02          NaT  \n",
       "1880463    2015-10-14          NaT  \n",
       "1880464    2015-03-14          NaT  \n",
       "\n",
       "[1880465 rows x 11 columns]"
      ]
     },
     "execution_count": 31,
     "metadata": {},
     "output_type": "execute_result"
    }
   ],
   "source": [
    "data2"
   ]
  },
  {
   "cell_type": "code",
   "execution_count": 32,
   "metadata": {},
   "outputs": [
    {
     "data": {
      "text/html": [
       "<div>\n",
       "<style scoped>\n",
       "    .dataframe tbody tr th:only-of-type {\n",
       "        vertical-align: middle;\n",
       "    }\n",
       "\n",
       "    .dataframe tbody tr th {\n",
       "        vertical-align: top;\n",
       "    }\n",
       "\n",
       "    .dataframe thead th {\n",
       "        text-align: right;\n",
       "    }\n",
       "</style>\n",
       "<table border=\"1\" class=\"dataframe\">\n",
       "  <thead>\n",
       "    <tr style=\"text-align: right;\">\n",
       "      <th></th>\n",
       "      <th>FIRE_YEAR</th>\n",
       "      <th>STAT_CAUSE_DESCR</th>\n",
       "      <th>LATITUDE</th>\n",
       "      <th>LONGITUDE</th>\n",
       "      <th>STATE</th>\n",
       "      <th>FIRE_SIZE</th>\n",
       "    </tr>\n",
       "  </thead>\n",
       "  <tbody>\n",
       "    <tr>\n",
       "      <th>FIRE_YEAR</th>\n",
       "      <td>1.000000</td>\n",
       "      <td>0.050389</td>\n",
       "      <td>0.000407</td>\n",
       "      <td>0.015863</td>\n",
       "      <td>0.102115</td>\n",
       "      <td>0.007048</td>\n",
       "    </tr>\n",
       "    <tr>\n",
       "      <th>STAT_CAUSE_DESCR</th>\n",
       "      <td>0.050389</td>\n",
       "      <td>1.000000</td>\n",
       "      <td>0.012729</td>\n",
       "      <td>-0.123879</td>\n",
       "      <td>0.036004</td>\n",
       "      <td>0.010450</td>\n",
       "    </tr>\n",
       "    <tr>\n",
       "      <th>LATITUDE</th>\n",
       "      <td>0.000407</td>\n",
       "      <td>0.012729</td>\n",
       "      <td>1.000000</td>\n",
       "      <td>-0.354727</td>\n",
       "      <td>0.152474</td>\n",
       "      <td>0.038860</td>\n",
       "    </tr>\n",
       "    <tr>\n",
       "      <th>LONGITUDE</th>\n",
       "      <td>0.015863</td>\n",
       "      <td>-0.123879</td>\n",
       "      <td>-0.354727</td>\n",
       "      <td>1.000000</td>\n",
       "      <td>0.207575</td>\n",
       "      <td>-0.039731</td>\n",
       "    </tr>\n",
       "    <tr>\n",
       "      <th>STATE</th>\n",
       "      <td>0.102115</td>\n",
       "      <td>0.036004</td>\n",
       "      <td>0.152474</td>\n",
       "      <td>0.207575</td>\n",
       "      <td>1.000000</td>\n",
       "      <td>-0.008003</td>\n",
       "    </tr>\n",
       "    <tr>\n",
       "      <th>FIRE_SIZE</th>\n",
       "      <td>0.007048</td>\n",
       "      <td>0.010450</td>\n",
       "      <td>0.038860</td>\n",
       "      <td>-0.039731</td>\n",
       "      <td>-0.008003</td>\n",
       "      <td>1.000000</td>\n",
       "    </tr>\n",
       "  </tbody>\n",
       "</table>\n",
       "</div>"
      ],
      "text/plain": [
       "                  FIRE_YEAR  STAT_CAUSE_DESCR  LATITUDE  LONGITUDE     STATE  \\\n",
       "FIRE_YEAR          1.000000          0.050389  0.000407   0.015863  0.102115   \n",
       "STAT_CAUSE_DESCR   0.050389          1.000000  0.012729  -0.123879  0.036004   \n",
       "LATITUDE           0.000407          0.012729  1.000000  -0.354727  0.152474   \n",
       "LONGITUDE          0.015863         -0.123879 -0.354727   1.000000  0.207575   \n",
       "STATE              0.102115          0.036004  0.152474   0.207575  1.000000   \n",
       "FIRE_SIZE          0.007048          0.010450  0.038860  -0.039731 -0.008003   \n",
       "\n",
       "                  FIRE_SIZE  \n",
       "FIRE_YEAR          0.007048  \n",
       "STAT_CAUSE_DESCR   0.010450  \n",
       "LATITUDE           0.038860  \n",
       "LONGITUDE         -0.039731  \n",
       "STATE             -0.008003  \n",
       "FIRE_SIZE          1.000000  "
      ]
     },
     "execution_count": 32,
     "metadata": {},
     "output_type": "execute_result"
    }
   ],
   "source": [
    "data2.corr()"
   ]
  },
  {
   "cell_type": "code",
   "execution_count": 33,
   "metadata": {},
   "outputs": [
    {
     "data": {
      "text/plain": [
       "<matplotlib.axes._subplots.AxesSubplot at 0x2192bed4280>"
      ]
     },
     "execution_count": 33,
     "metadata": {},
     "output_type": "execute_result"
    },
    {
     "data": {
      "image/png": "[encoded data removed]",
      "text/plain": [
       "<Figure size 432x288 with 2 Axes>"
      ]
     },
     "metadata": {
      "needs_background": "light"
     },
     "output_type": "display_data"
    }
   ],
   "source": [
    "correlation_matrix = data2.corr().round(2)\n",
    "sns.heatmap(data=correlation_matrix, annot=True)"
   ]
  },
  {
   "cell_type": "code",
   "execution_count": null,
   "metadata": {},
   "outputs": [],
   "source": [
    "#weak correlation"
   ]
  },
  {
   "cell_type": "code",
   "execution_count": 96,
   "metadata": {},
   "outputs": [],
   "source": [
    "data3 = pd.read_sql_query(\"SELECT FIRE_YEAR,STAT_CAUSE_DESCR,LATITUDE,LONGITUDE,STATE,FIRE_SIZE FROM 'Fires'\", conn)"
   ]
  },
  {
   "cell_type": "code",
   "execution_count": 97,
   "metadata": {
    "scrolled": true
   },
   "outputs": [
    {
     "name": "stdout",
     "output_type": "stream",
     "text": [
      "   FIRE_YEAR  STAT_CAUSE_DESCR   LATITUDE   LONGITUDE  STATE  FIRE_SIZE\n",
      "0       2005                 7  40.036944 -121.005833      4       0.10\n",
      "1       2004                 6  38.933056 -120.404444      4       0.25\n",
      "2       2004                 3  38.984167 -120.735556      4       0.10\n",
      "3       2004                 6  38.559167 -119.913333      4       0.10\n",
      "4       2004                 6  38.559167 -119.933056      4       0.10\n"
     ]
    }
   ],
   "source": [
    "le = preprocessing.LabelEncoder()\n",
    "data3['STAT_CAUSE_DESCR'] = le.fit_transform(df['STAT_CAUSE_DESCR'])\n",
    "data3['STATE'] = le.fit_transform(df['STATE'])\n",
    "print(data3.head())"
   ]
  },
  {
   "cell_type": "code",
   "execution_count": 232,
   "metadata": {},
   "outputs": [
    {
     "data": {
      "text/html": [
       "<div>\n",
       "<style scoped>\n",
       "    .dataframe tbody tr th:only-of-type {\n",
       "        vertical-align: middle;\n",
       "    }\n",
       "\n",
       "    .dataframe tbody tr th {\n",
       "        vertical-align: top;\n",
       "    }\n",
       "\n",
       "    .dataframe thead th {\n",
       "        text-align: right;\n",
       "    }\n",
       "</style>\n",
       "<table border=\"1\" class=\"dataframe\">\n",
       "  <thead>\n",
       "    <tr style=\"text-align: right;\">\n",
       "      <th></th>\n",
       "      <th>FIRE_YEAR</th>\n",
       "      <th>STAT_CAUSE_DESCR</th>\n",
       "      <th>LATITUDE</th>\n",
       "      <th>LONGITUDE</th>\n",
       "      <th>STATE</th>\n",
       "      <th>FIRE_SIZE</th>\n",
       "      <th>DATE</th>\n",
       "      <th>MONTH</th>\n",
       "    </tr>\n",
       "  </thead>\n",
       "  <tbody>\n",
       "    <tr>\n",
       "      <th>0</th>\n",
       "      <td>2005</td>\n",
       "      <td>7</td>\n",
       "      <td>40.036944</td>\n",
       "      <td>-121.005833</td>\n",
       "      <td>4</td>\n",
       "      <td>0.10</td>\n",
       "      <td>2005-02-02</td>\n",
       "      <td>1</td>\n",
       "    </tr>\n",
       "    <tr>\n",
       "      <th>1</th>\n",
       "      <td>2004</td>\n",
       "      <td>6</td>\n",
       "      <td>38.933056</td>\n",
       "      <td>-120.404444</td>\n",
       "      <td>4</td>\n",
       "      <td>0.25</td>\n",
       "      <td>2004-05-12</td>\n",
       "      <td>1</td>\n",
       "    </tr>\n",
       "    <tr>\n",
       "      <th>2</th>\n",
       "      <td>2004</td>\n",
       "      <td>3</td>\n",
       "      <td>38.984167</td>\n",
       "      <td>-120.735556</td>\n",
       "      <td>4</td>\n",
       "      <td>0.10</td>\n",
       "      <td>2004-05-31</td>\n",
       "      <td>1</td>\n",
       "    </tr>\n",
       "    <tr>\n",
       "      <th>3</th>\n",
       "      <td>2004</td>\n",
       "      <td>6</td>\n",
       "      <td>38.559167</td>\n",
       "      <td>-119.913333</td>\n",
       "      <td>4</td>\n",
       "      <td>0.10</td>\n",
       "      <td>2004-06-28</td>\n",
       "      <td>1</td>\n",
       "    </tr>\n",
       "    <tr>\n",
       "      <th>4</th>\n",
       "      <td>2004</td>\n",
       "      <td>6</td>\n",
       "      <td>38.559167</td>\n",
       "      <td>-119.933056</td>\n",
       "      <td>4</td>\n",
       "      <td>0.10</td>\n",
       "      <td>2004-06-28</td>\n",
       "      <td>1</td>\n",
       "    </tr>\n",
       "    <tr>\n",
       "      <th>...</th>\n",
       "      <td>...</td>\n",
       "      <td>...</td>\n",
       "      <td>...</td>\n",
       "      <td>...</td>\n",
       "      <td>...</td>\n",
       "      <td>...</td>\n",
       "      <td>...</td>\n",
       "      <td>...</td>\n",
       "    </tr>\n",
       "    <tr>\n",
       "      <th>1880460</th>\n",
       "      <td>2015</td>\n",
       "      <td>8</td>\n",
       "      <td>40.481637</td>\n",
       "      <td>-122.389375</td>\n",
       "      <td>4</td>\n",
       "      <td>0.01</td>\n",
       "      <td>2015-09-26</td>\n",
       "      <td>1</td>\n",
       "    </tr>\n",
       "    <tr>\n",
       "      <th>1880461</th>\n",
       "      <td>2015</td>\n",
       "      <td>7</td>\n",
       "      <td>37.617619</td>\n",
       "      <td>-120.938570</td>\n",
       "      <td>4</td>\n",
       "      <td>0.20</td>\n",
       "      <td>2015-10-05</td>\n",
       "      <td>1</td>\n",
       "    </tr>\n",
       "    <tr>\n",
       "      <th>1880462</th>\n",
       "      <td>2015</td>\n",
       "      <td>8</td>\n",
       "      <td>37.617619</td>\n",
       "      <td>-120.938570</td>\n",
       "      <td>4</td>\n",
       "      <td>0.10</td>\n",
       "      <td>2015-05-02</td>\n",
       "      <td>1</td>\n",
       "    </tr>\n",
       "    <tr>\n",
       "      <th>1880463</th>\n",
       "      <td>2015</td>\n",
       "      <td>8</td>\n",
       "      <td>37.672235</td>\n",
       "      <td>-120.898356</td>\n",
       "      <td>4</td>\n",
       "      <td>2.00</td>\n",
       "      <td>2015-10-14</td>\n",
       "      <td>1</td>\n",
       "    </tr>\n",
       "    <tr>\n",
       "      <th>1880464</th>\n",
       "      <td>2015</td>\n",
       "      <td>7</td>\n",
       "      <td>34.263217</td>\n",
       "      <td>-116.830950</td>\n",
       "      <td>4</td>\n",
       "      <td>0.10</td>\n",
       "      <td>2015-03-14</td>\n",
       "      <td>1</td>\n",
       "    </tr>\n",
       "  </tbody>\n",
       "</table>\n",
       "<p>1880465 rows × 8 columns</p>\n",
       "</div>"
      ],
      "text/plain": [
       "         FIRE_YEAR  STAT_CAUSE_DESCR   LATITUDE   LONGITUDE  STATE  FIRE_SIZE  \\\n",
       "0             2005                 7  40.036944 -121.005833      4       0.10   \n",
       "1             2004                 6  38.933056 -120.404444      4       0.25   \n",
       "2             2004                 3  38.984167 -120.735556      4       0.10   \n",
       "3             2004                 6  38.559167 -119.913333      4       0.10   \n",
       "4             2004                 6  38.559167 -119.933056      4       0.10   \n",
       "...            ...               ...        ...         ...    ...        ...   \n",
       "1880460       2015                 8  40.481637 -122.389375      4       0.01   \n",
       "1880461       2015                 7  37.617619 -120.938570      4       0.20   \n",
       "1880462       2015                 8  37.617619 -120.938570      4       0.10   \n",
       "1880463       2015                 8  37.672235 -120.898356      4       2.00   \n",
       "1880464       2015                 7  34.263217 -116.830950      4       0.10   \n",
       "\n",
       "              DATE  MONTH  \n",
       "0       2005-02-02      1  \n",
       "1       2004-05-12      1  \n",
       "2       2004-05-31      1  \n",
       "3       2004-06-28      1  \n",
       "4       2004-06-28      1  \n",
       "...            ...    ...  \n",
       "1880460 2015-09-26      1  \n",
       "1880461 2015-10-05      1  \n",
       "1880462 2015-05-02      1  \n",
       "1880463 2015-10-14      1  \n",
       "1880464 2015-03-14      1  \n",
       "\n",
       "[1880465 rows x 8 columns]"
      ]
     },
     "execution_count": 232,
     "metadata": {},
     "output_type": "execute_result"
    }
   ],
   "source": [
    "data3['DATE'] = pd.to_datetime(df['DISCOVERY_DATE'] - pd.Timestamp(0).to_julian_date(), unit='D')\n",
    "data3['MONTH'] = pd.DatetimeIndex(df['DISCOVERY_DATE']).month\n",
    "data3=data3.dropna()\n",
    "data3"
   ]
  },
  {
   "cell_type": "code",
   "execution_count": 233,
   "metadata": {},
   "outputs": [
    {
     "data": {
      "text/html": [
       "<div>\n",
       "<style scoped>\n",
       "    .dataframe tbody tr th:only-of-type {\n",
       "        vertical-align: middle;\n",
       "    }\n",
       "\n",
       "    .dataframe tbody tr th {\n",
       "        vertical-align: top;\n",
       "    }\n",
       "\n",
       "    .dataframe thead th {\n",
       "        text-align: right;\n",
       "    }\n",
       "</style>\n",
       "<table border=\"1\" class=\"dataframe\">\n",
       "  <thead>\n",
       "    <tr style=\"text-align: right;\">\n",
       "      <th></th>\n",
       "      <th>FIRE_YEAR</th>\n",
       "      <th>STAT_CAUSE_DESCR</th>\n",
       "      <th>LATITUDE</th>\n",
       "      <th>LONGITUDE</th>\n",
       "      <th>STATE</th>\n",
       "      <th>FIRE_SIZE</th>\n",
       "      <th>MONTH</th>\n",
       "    </tr>\n",
       "  </thead>\n",
       "  <tbody>\n",
       "    <tr>\n",
       "      <th>0</th>\n",
       "      <td>2005</td>\n",
       "      <td>7</td>\n",
       "      <td>40.036944</td>\n",
       "      <td>-121.005833</td>\n",
       "      <td>4</td>\n",
       "      <td>0.10</td>\n",
       "      <td>1</td>\n",
       "    </tr>\n",
       "    <tr>\n",
       "      <th>1</th>\n",
       "      <td>2004</td>\n",
       "      <td>6</td>\n",
       "      <td>38.933056</td>\n",
       "      <td>-120.404444</td>\n",
       "      <td>4</td>\n",
       "      <td>0.25</td>\n",
       "      <td>1</td>\n",
       "    </tr>\n",
       "    <tr>\n",
       "      <th>2</th>\n",
       "      <td>2004</td>\n",
       "      <td>3</td>\n",
       "      <td>38.984167</td>\n",
       "      <td>-120.735556</td>\n",
       "      <td>4</td>\n",
       "      <td>0.10</td>\n",
       "      <td>1</td>\n",
       "    </tr>\n",
       "    <tr>\n",
       "      <th>3</th>\n",
       "      <td>2004</td>\n",
       "      <td>6</td>\n",
       "      <td>38.559167</td>\n",
       "      <td>-119.913333</td>\n",
       "      <td>4</td>\n",
       "      <td>0.10</td>\n",
       "      <td>1</td>\n",
       "    </tr>\n",
       "    <tr>\n",
       "      <th>4</th>\n",
       "      <td>2004</td>\n",
       "      <td>6</td>\n",
       "      <td>38.559167</td>\n",
       "      <td>-119.933056</td>\n",
       "      <td>4</td>\n",
       "      <td>0.10</td>\n",
       "      <td>1</td>\n",
       "    </tr>\n",
       "    <tr>\n",
       "      <th>...</th>\n",
       "      <td>...</td>\n",
       "      <td>...</td>\n",
       "      <td>...</td>\n",
       "      <td>...</td>\n",
       "      <td>...</td>\n",
       "      <td>...</td>\n",
       "      <td>...</td>\n",
       "    </tr>\n",
       "    <tr>\n",
       "      <th>1880460</th>\n",
       "      <td>2015</td>\n",
       "      <td>8</td>\n",
       "      <td>40.481637</td>\n",
       "      <td>-122.389375</td>\n",
       "      <td>4</td>\n",
       "      <td>0.01</td>\n",
       "      <td>1</td>\n",
       "    </tr>\n",
       "    <tr>\n",
       "      <th>1880461</th>\n",
       "      <td>2015</td>\n",
       "      <td>7</td>\n",
       "      <td>37.617619</td>\n",
       "      <td>-120.938570</td>\n",
       "      <td>4</td>\n",
       "      <td>0.20</td>\n",
       "      <td>1</td>\n",
       "    </tr>\n",
       "    <tr>\n",
       "      <th>1880462</th>\n",
       "      <td>2015</td>\n",
       "      <td>8</td>\n",
       "      <td>37.617619</td>\n",
       "      <td>-120.938570</td>\n",
       "      <td>4</td>\n",
       "      <td>0.10</td>\n",
       "      <td>1</td>\n",
       "    </tr>\n",
       "    <tr>\n",
       "      <th>1880463</th>\n",
       "      <td>2015</td>\n",
       "      <td>8</td>\n",
       "      <td>37.672235</td>\n",
       "      <td>-120.898356</td>\n",
       "      <td>4</td>\n",
       "      <td>2.00</td>\n",
       "      <td>1</td>\n",
       "    </tr>\n",
       "    <tr>\n",
       "      <th>1880464</th>\n",
       "      <td>2015</td>\n",
       "      <td>7</td>\n",
       "      <td>34.263217</td>\n",
       "      <td>-116.830950</td>\n",
       "      <td>4</td>\n",
       "      <td>0.10</td>\n",
       "      <td>1</td>\n",
       "    </tr>\n",
       "  </tbody>\n",
       "</table>\n",
       "<p>1880465 rows × 7 columns</p>\n",
       "</div>"
      ],
      "text/plain": [
       "         FIRE_YEAR  STAT_CAUSE_DESCR   LATITUDE   LONGITUDE  STATE  FIRE_SIZE  \\\n",
       "0             2005                 7  40.036944 -121.005833      4       0.10   \n",
       "1             2004                 6  38.933056 -120.404444      4       0.25   \n",
       "2             2004                 3  38.984167 -120.735556      4       0.10   \n",
       "3             2004                 6  38.559167 -119.913333      4       0.10   \n",
       "4             2004                 6  38.559167 -119.933056      4       0.10   \n",
       "...            ...               ...        ...         ...    ...        ...   \n",
       "1880460       2015                 8  40.481637 -122.389375      4       0.01   \n",
       "1880461       2015                 7  37.617619 -120.938570      4       0.20   \n",
       "1880462       2015                 8  37.617619 -120.938570      4       0.10   \n",
       "1880463       2015                 8  37.672235 -120.898356      4       2.00   \n",
       "1880464       2015                 7  34.263217 -116.830950      4       0.10   \n",
       "\n",
       "         MONTH  \n",
       "0            1  \n",
       "1            1  \n",
       "2            1  \n",
       "3            1  \n",
       "4            1  \n",
       "...        ...  \n",
       "1880460      1  \n",
       "1880461      1  \n",
       "1880462      1  \n",
       "1880463      1  \n",
       "1880464      1  \n",
       "\n",
       "[1880465 rows x 7 columns]"
      ]
     },
     "execution_count": 233,
     "metadata": {},
     "output_type": "execute_result"
    }
   ],
   "source": [
    "data_test=data3.drop(\"DATE\",axis=1)\n",
    "data_test=data_test.dropna()\n",
    "data_test"
   ]
  },
  {
   "cell_type": "code",
   "execution_count": 234,
   "metadata": {},
   "outputs": [],
   "source": [
    "X=data_test.drop(['STAT_CAUSE_DESCR'],axis=1).values\n",
    "y=data_test['STAT_CAUSE_DESCR'].values"
   ]
  },
  {
   "cell_type": "code",
   "execution_count": 246,
   "metadata": {},
   "outputs": [],
   "source": [
    "X=X[:,np.newaxis,2]\n"
   ]
  },
  {
   "cell_type": "code",
   "execution_count": 250,
   "metadata": {},
   "outputs": [],
   "source": [
    "# X_train, X_test, y_train, y_test = train_test_split(diabetes_X,y,test_size=0.3, random_state=0)\n",
    "X_train = X[:-20]\n",
    "X_test = X[-20:]\n",
    "y_train = y[:-20]\n",
    "y_test = y[-20:]"
   ]
  },
  {
   "cell_type": "code",
   "execution_count": 251,
   "metadata": {},
   "outputs": [],
   "source": [
    "from sklearn.linear_model import LinearRegression\n",
    "from sklearn.metrics import mean_absolute_error\n",
    "from sklearn.metrics import mean_squared_error, r2_score"
   ]
  },
  {
   "cell_type": "code",
   "execution_count": 252,
   "metadata": {},
   "outputs": [
    {
     "data": {
      "text/plain": [
       "LinearRegression()"
      ]
     },
     "execution_count": 252,
     "metadata": {},
     "output_type": "execute_result"
    }
   ],
   "source": [
    "\n",
    "reg = LinearRegression()\n",
    "reg.fit(X_train, y_train)"
   ]
  },
  {
   "cell_type": "raw",
   "metadata": {},
   "source": [
    "Regression "
   ]
  },
  {
   "cell_type": "code",
   "execution_count": 253,
   "metadata": {},
   "outputs": [
    {
     "name": "stdout",
     "output_type": "stream",
     "text": [
      "[5.01728837 4.97768454 4.97699717 5.06550955 5.03632404 5.09447033\n",
      " 5.06987806 5.02229082 5.02070946 5.05780605 5.06439813 5.10337475\n",
      " 5.11824529 5.12865021 5.10926505 5.1033304  5.07152025 5.07152025\n",
      " 5.07063852 4.98145713]\n"
     ]
    }
   ],
   "source": [
    "y_pred = reg.predict(X_test)\n",
    "print(y_pred)"
   ]
  },
  {
   "cell_type": "code",
   "execution_count": 254,
   "metadata": {},
   "outputs": [
    {
     "data": {
      "text/plain": [
       "array([-0.02192586])"
      ]
     },
     "execution_count": 254,
     "metadata": {},
     "output_type": "execute_result"
    }
   ],
   "source": [
    "reg.coef_"
   ]
  },
  {
   "cell_type": "code",
   "execution_count": 255,
   "metadata": {},
   "outputs": [
    {
     "data": {
      "text/plain": [
       "2.4198376904416365"
      ]
     },
     "execution_count": 255,
     "metadata": {},
     "output_type": "execute_result"
    }
   ],
   "source": [
    "reg.intercept_"
   ]
  },
  {
   "cell_type": "code",
   "execution_count": 256,
   "metadata": {},
   "outputs": [
    {
     "name": "stdout",
     "output_type": "stream",
     "text": [
      "Mean Squared error: 8.872358839471854\n"
     ]
    }
   ],
   "source": [
    "#mean squared error\n",
    "print('Mean Squared error:', mean_squared_error(y_test,y_pred))"
   ]
  },
  {
   "cell_type": "code",
   "execution_count": 257,
   "metadata": {},
   "outputs": [
    {
     "name": "stdout",
     "output_type": "stream",
     "text": [
      "Coefficient of determination: -0.04044079032211689\n"
     ]
    }
   ],
   "source": [
    "#r2\n",
    "print('Coefficient of determination:',r2_score(y_test,y_pred))"
   ]
  },
  {
   "cell_type": "code",
   "execution_count": 258,
   "metadata": {},
   "outputs": [
    {
     "data": {
      "text/plain": [
       "-0.04044079032211689"
      ]
     },
     "execution_count": 258,
     "metadata": {},
     "output_type": "execute_result"
    }
   ],
   "source": [
    "score=reg.score(X_test,diabetes_y_test)\n",
    "score"
   ]
  },
  {
   "cell_type": "code",
   "execution_count": 259,
   "metadata": {},
   "outputs": [
    {
     "data": {
      "image/png": "[encoded data removed]",
      "text/plain": [
       "<Figure size 640x480 with 1 Axes>"
      ]
     },
     "metadata": {},
     "output_type": "display_data"
    }
   ],
   "source": [
    "# Plot outputs\n",
    "plt.style.use('classic')\n",
    "plt.scatter(X_test, y_test,  color='black')\n",
    "plt.plot(X_test, y_pred, color='blue', linewidth=3)\n",
    "\n",
    "plt.xticks(())\n",
    "plt.yticks(())\n",
    "\n",
    "plt.show();"
   ]
  },
  {
   "cell_type": "code",
   "execution_count": null,
   "metadata": {},
   "outputs": [],
   "source": []
  },
  {
   "cell_type": "code",
   "execution_count": null,
   "metadata": {},
   "outputs": [],
   "source": [
    "#Decision tree"
   ]
  },
  {
   "cell_type": "code",
   "execution_count": 283,
   "metadata": {},
   "outputs": [
    {
     "name": "stdout",
     "output_type": "stream",
     "text": [
      "   FIRE_YEAR STAT_CAUSE_DESCR   LATITUDE   LONGITUDE STATE  DISCOVERY_DATE  \\\n",
      "0       2005    Miscellaneous  40.036944 -121.005833    CA       2453403.5   \n",
      "1       2004        Lightning  38.933056 -120.404444    CA       2453137.5   \n",
      "2       2004   Debris Burning  38.984167 -120.735556    CA       2453156.5   \n",
      "3       2004        Lightning  38.559167 -119.913333    CA       2453184.5   \n",
      "4       2004        Lightning  38.559167 -119.933056    CA       2453184.5   \n",
      "\n",
      "   FIRE_SIZE  \n",
      "0       0.10  \n",
      "1       0.25  \n",
      "2       0.10  \n",
      "3       0.10  \n",
      "4       0.10  \n"
     ]
    }
   ],
   "source": [
    "dt = pd.read_sql_query(\"SELECT FIRE_YEAR,STAT_CAUSE_DESCR,LATITUDE,LONGITUDE,STATE,DISCOVERY_DATE,FIRE_SIZE FROM 'Fires'\", conn)\n"
   ]
  },
  {
   "cell_type": "code",
   "execution_count": 284,
   "metadata": {},
   "outputs": [],
   "source": [
    "dt['DATE'] = pd.to_datetime(df['DISCOVERY_DATE'] - pd.Timestamp(0).to_julian_date(), unit='D')"
   ]
  },
  {
   "cell_type": "code",
   "execution_count": 288,
   "metadata": {},
   "outputs": [
    {
     "data": {
      "text/html": [
       "<div>\n",
       "<style scoped>\n",
       "    .dataframe tbody tr th:only-of-type {\n",
       "        vertical-align: middle;\n",
       "    }\n",
       "\n",
       "    .dataframe tbody tr th {\n",
       "        vertical-align: top;\n",
       "    }\n",
       "\n",
       "    .dataframe thead th {\n",
       "        text-align: right;\n",
       "    }\n",
       "</style>\n",
       "<table border=\"1\" class=\"dataframe\">\n",
       "  <thead>\n",
       "    <tr style=\"text-align: right;\">\n",
       "      <th></th>\n",
       "      <th>FIRE_YEAR</th>\n",
       "      <th>STAT_CAUSE_DESCR</th>\n",
       "      <th>LATITUDE</th>\n",
       "      <th>LONGITUDE</th>\n",
       "      <th>STATE</th>\n",
       "      <th>DISCOVERY_DATE</th>\n",
       "      <th>FIRE_SIZE</th>\n",
       "      <th>DATE</th>\n",
       "      <th>MONTH</th>\n",
       "      <th>DAY_OF_WEEK</th>\n",
       "    </tr>\n",
       "  </thead>\n",
       "  <tbody>\n",
       "    <tr>\n",
       "      <th>0</th>\n",
       "      <td>2005</td>\n",
       "      <td>Miscellaneous</td>\n",
       "      <td>40.036944</td>\n",
       "      <td>-121.005833</td>\n",
       "      <td>CA</td>\n",
       "      <td>2453403.5</td>\n",
       "      <td>0.10</td>\n",
       "      <td>2005-02-02</td>\n",
       "      <td>2</td>\n",
       "      <td>Wednesday</td>\n",
       "    </tr>\n",
       "    <tr>\n",
       "      <th>1</th>\n",
       "      <td>2004</td>\n",
       "      <td>Lightning</td>\n",
       "      <td>38.933056</td>\n",
       "      <td>-120.404444</td>\n",
       "      <td>CA</td>\n",
       "      <td>2453137.5</td>\n",
       "      <td>0.25</td>\n",
       "      <td>2004-05-12</td>\n",
       "      <td>5</td>\n",
       "      <td>Wednesday</td>\n",
       "    </tr>\n",
       "    <tr>\n",
       "      <th>2</th>\n",
       "      <td>2004</td>\n",
       "      <td>Debris Burning</td>\n",
       "      <td>38.984167</td>\n",
       "      <td>-120.735556</td>\n",
       "      <td>CA</td>\n",
       "      <td>2453156.5</td>\n",
       "      <td>0.10</td>\n",
       "      <td>2004-05-31</td>\n",
       "      <td>5</td>\n",
       "      <td>Monday</td>\n",
       "    </tr>\n",
       "    <tr>\n",
       "      <th>3</th>\n",
       "      <td>2004</td>\n",
       "      <td>Lightning</td>\n",
       "      <td>38.559167</td>\n",
       "      <td>-119.913333</td>\n",
       "      <td>CA</td>\n",
       "      <td>2453184.5</td>\n",
       "      <td>0.10</td>\n",
       "      <td>2004-06-28</td>\n",
       "      <td>6</td>\n",
       "      <td>Monday</td>\n",
       "    </tr>\n",
       "    <tr>\n",
       "      <th>4</th>\n",
       "      <td>2004</td>\n",
       "      <td>Lightning</td>\n",
       "      <td>38.559167</td>\n",
       "      <td>-119.933056</td>\n",
       "      <td>CA</td>\n",
       "      <td>2453184.5</td>\n",
       "      <td>0.10</td>\n",
       "      <td>2004-06-28</td>\n",
       "      <td>6</td>\n",
       "      <td>Monday</td>\n",
       "    </tr>\n",
       "    <tr>\n",
       "      <th>...</th>\n",
       "      <td>...</td>\n",
       "      <td>...</td>\n",
       "      <td>...</td>\n",
       "      <td>...</td>\n",
       "      <td>...</td>\n",
       "      <td>...</td>\n",
       "      <td>...</td>\n",
       "      <td>...</td>\n",
       "      <td>...</td>\n",
       "      <td>...</td>\n",
       "    </tr>\n",
       "    <tr>\n",
       "      <th>1880460</th>\n",
       "      <td>2015</td>\n",
       "      <td>Missing/Undefined</td>\n",
       "      <td>40.481637</td>\n",
       "      <td>-122.389375</td>\n",
       "      <td>CA</td>\n",
       "      <td>2457291.5</td>\n",
       "      <td>0.01</td>\n",
       "      <td>2015-09-26</td>\n",
       "      <td>9</td>\n",
       "      <td>Saturday</td>\n",
       "    </tr>\n",
       "    <tr>\n",
       "      <th>1880461</th>\n",
       "      <td>2015</td>\n",
       "      <td>Miscellaneous</td>\n",
       "      <td>37.617619</td>\n",
       "      <td>-120.938570</td>\n",
       "      <td>CA</td>\n",
       "      <td>2457300.5</td>\n",
       "      <td>0.20</td>\n",
       "      <td>2015-10-05</td>\n",
       "      <td>10</td>\n",
       "      <td>Monday</td>\n",
       "    </tr>\n",
       "    <tr>\n",
       "      <th>1880462</th>\n",
       "      <td>2015</td>\n",
       "      <td>Missing/Undefined</td>\n",
       "      <td>37.617619</td>\n",
       "      <td>-120.938570</td>\n",
       "      <td>CA</td>\n",
       "      <td>2457144.5</td>\n",
       "      <td>0.10</td>\n",
       "      <td>2015-05-02</td>\n",
       "      <td>5</td>\n",
       "      <td>Saturday</td>\n",
       "    </tr>\n",
       "    <tr>\n",
       "      <th>1880463</th>\n",
       "      <td>2015</td>\n",
       "      <td>Missing/Undefined</td>\n",
       "      <td>37.672235</td>\n",
       "      <td>-120.898356</td>\n",
       "      <td>CA</td>\n",
       "      <td>2457309.5</td>\n",
       "      <td>2.00</td>\n",
       "      <td>2015-10-14</td>\n",
       "      <td>10</td>\n",
       "      <td>Wednesday</td>\n",
       "    </tr>\n",
       "    <tr>\n",
       "      <th>1880464</th>\n",
       "      <td>2015</td>\n",
       "      <td>Miscellaneous</td>\n",
       "      <td>34.263217</td>\n",
       "      <td>-116.830950</td>\n",
       "      <td>CA</td>\n",
       "      <td>2457095.5</td>\n",
       "      <td>0.10</td>\n",
       "      <td>2015-03-14</td>\n",
       "      <td>3</td>\n",
       "      <td>Saturday</td>\n",
       "    </tr>\n",
       "  </tbody>\n",
       "</table>\n",
       "<p>1880465 rows × 10 columns</p>\n",
       "</div>"
      ],
      "text/plain": [
       "         FIRE_YEAR   STAT_CAUSE_DESCR   LATITUDE   LONGITUDE STATE  \\\n",
       "0             2005      Miscellaneous  40.036944 -121.005833    CA   \n",
       "1             2004          Lightning  38.933056 -120.404444    CA   \n",
       "2             2004     Debris Burning  38.984167 -120.735556    CA   \n",
       "3             2004          Lightning  38.559167 -119.913333    CA   \n",
       "4             2004          Lightning  38.559167 -119.933056    CA   \n",
       "...            ...                ...        ...         ...   ...   \n",
       "1880460       2015  Missing/Undefined  40.481637 -122.389375    CA   \n",
       "1880461       2015      Miscellaneous  37.617619 -120.938570    CA   \n",
       "1880462       2015  Missing/Undefined  37.617619 -120.938570    CA   \n",
       "1880463       2015  Missing/Undefined  37.672235 -120.898356    CA   \n",
       "1880464       2015      Miscellaneous  34.263217 -116.830950    CA   \n",
       "\n",
       "         DISCOVERY_DATE  FIRE_SIZE       DATE  MONTH DAY_OF_WEEK  \n",
       "0             2453403.5       0.10 2005-02-02      2   Wednesday  \n",
       "1             2453137.5       0.25 2004-05-12      5   Wednesday  \n",
       "2             2453156.5       0.10 2004-05-31      5      Monday  \n",
       "3             2453184.5       0.10 2004-06-28      6      Monday  \n",
       "4             2453184.5       0.10 2004-06-28      6      Monday  \n",
       "...                 ...        ...        ...    ...         ...  \n",
       "1880460       2457291.5       0.01 2015-09-26      9    Saturday  \n",
       "1880461       2457300.5       0.20 2015-10-05     10      Monday  \n",
       "1880462       2457144.5       0.10 2015-05-02      5    Saturday  \n",
       "1880463       2457309.5       2.00 2015-10-14     10   Wednesday  \n",
       "1880464       2457095.5       0.10 2015-03-14      3    Saturday  \n",
       "\n",
       "[1880465 rows x 10 columns]"
      ]
     },
     "execution_count": 288,
     "metadata": {},
     "output_type": "execute_result"
    }
   ],
   "source": [
    "dt['MONTH'] = pd.DatetimeIndex(dt['DATE']).month\n",
    "dt['DAY_OF_WEEK'] = dt['DATE'].dt.day_name()\n",
    "dt"
   ]
  },
  {
   "cell_type": "code",
   "execution_count": 289,
   "metadata": {},
   "outputs": [
    {
     "name": "stdout",
     "output_type": "stream",
     "text": [
      "   FIRE_YEAR  STAT_CAUSE_DESCR   LATITUDE   LONGITUDE  STATE  DISCOVERY_DATE  \\\n",
      "0       2005                 7  40.036944 -121.005833      4       2453403.5   \n",
      "1       2004                 6  38.933056 -120.404444      4       2453137.5   \n",
      "2       2004                 3  38.984167 -120.735556      4       2453156.5   \n",
      "3       2004                 6  38.559167 -119.913333      4       2453184.5   \n",
      "4       2004                 6  38.559167 -119.933056      4       2453184.5   \n",
      "\n",
      "   FIRE_SIZE       DATE  MONTH  DAY_OF_WEEK  \n",
      "0       0.10 2005-02-02      2            6  \n",
      "1       0.25 2004-05-12      5            6  \n",
      "2       0.10 2004-05-31      5            1  \n",
      "3       0.10 2004-06-28      6            1  \n",
      "4       0.10 2004-06-28      6            1  \n"
     ]
    }
   ],
   "source": [
    "dt['STAT_CAUSE_DESCR'] = le.fit_transform(dt['STAT_CAUSE_DESCR'])\n",
    "dt['STATE'] = le.fit_transform(dt['STATE'])\n",
    "dt['DAY_OF_WEEK'] = le.fit_transform(dt['DAY_OF_WEEK'])\n",
    "print(dt.head())"
   ]
  },
  {
   "cell_type": "code",
   "execution_count": 291,
   "metadata": {},
   "outputs": [],
   "source": [
    "dt = dt.drop('DATE',axis=1)\n",
    "dt = dt.dropna()"
   ]
  },
  {
   "cell_type": "code",
   "execution_count": 292,
   "metadata": {},
   "outputs": [],
   "source": [
    "X = dt.drop(['STAT_CAUSE_DESCR'], axis=1).values\n",
    "y = dt['STAT_CAUSE_DESCR'].values"
   ]
  },
  {
   "cell_type": "code",
   "execution_count": 293,
   "metadata": {},
   "outputs": [],
   "source": [
    "X_train, X_test, y_train, y_test = train_test_split(X,y,test_size=0.3, random_state=0) "
   ]
  },
  {
   "cell_type": "code",
   "execution_count": 297,
   "metadata": {},
   "outputs": [],
   "source": [
    "clf=DecisionTreeClassifier(max_depth=2,random_state=0)"
   ]
  },
  {
   "cell_type": "code",
   "execution_count": 298,
   "metadata": {},
   "outputs": [
    {
     "data": {
      "text/plain": [
       "DecisionTreeClassifier(max_depth=2, random_state=0)"
      ]
     },
     "execution_count": 298,
     "metadata": {},
     "output_type": "execute_result"
    }
   ],
   "source": [
    "clf.fit(X_train,y_train)"
   ]
  },
  {
   "cell_type": "code",
   "execution_count": 347,
   "metadata": {},
   "outputs": [
    {
     "data": {
      "image/png": "[encoded data removed]",
      "text/plain": [
       "<Figure size 1250x1250 with 1 Axes>"
      ]
     },
     "metadata": {},
     "output_type": "display_data"
    }
   ],
   "source": [
    "fig,axes=plt.subplots(nrows=1,ncols=1,figsize=(5,5),dpi=250)\n",
    "tree.plot_tree(clf, filled=True);"
   ]
  },
  {
   "cell_type": "code",
   "execution_count": 272,
   "metadata": {},
   "outputs": [],
   "source": [
    "# #predict for one observation\n",
    "# clf.predict(X_test.iloc[0].values.reshape(1,-1))"
   ]
  },
  {
   "cell_type": "code",
   "execution_count": 300,
   "metadata": {},
   "outputs": [
    {
     "data": {
      "text/plain": [
       "array([3, 6, 7, 6, 3, 3, 3, 3, 7, 3])"
      ]
     },
     "execution_count": 300,
     "metadata": {},
     "output_type": "execute_result"
    }
   ],
   "source": [
    "clf.predict(X_test[0:10])"
   ]
  },
  {
   "cell_type": "code",
   "execution_count": 301,
   "metadata": {},
   "outputs": [
    {
     "data": {
      "text/plain": [
       "0.3342042755344418"
      ]
     },
     "execution_count": 301,
     "metadata": {},
     "output_type": "execute_result"
    }
   ],
   "source": [
    "#decision tree socre\n",
    "score=clf.score(X_test,y_test)\n",
    "score"
   ]
  },
  {
   "cell_type": "raw",
   "metadata": {},
   "source": [
    "Random forest"
   ]
  },
  {
   "cell_type": "code",
   "execution_count": null,
   "metadata": {},
   "outputs": [],
   "source": [
    "#Random forest"
   ]
  },
  {
   "cell_type": "code",
   "execution_count": 302,
   "metadata": {
    "scrolled": true
   },
   "outputs": [
    {
     "name": "stdout",
     "output_type": "stream",
     "text": [
      "0.5806342397277272\n"
     ]
    }
   ],
   "source": [
    "clf_rf = ske.RandomForestClassifier(n_estimators=50)\n",
    "clf_rf = clf_rf.fit(X_train, y_train)\n",
    "print(clf_rf.score(X_test,y_test))"
   ]
  },
  {
   "cell_type": "raw",
   "metadata": {},
   "source": [
    "58%"
   ]
  },
  {
   "cell_type": "code",
   "execution_count": 305,
   "metadata": {},
   "outputs": [],
   "source": [
    "# reg=RandomForestRegressor(n_estimators=50,random_state=0)"
   ]
  },
  {
   "cell_type": "code",
   "execution_count": null,
   "metadata": {},
   "outputs": [],
   "source": [
    "# reg.fit(X_train,y_train)"
   ]
  },
  {
   "cell_type": "code",
   "execution_count": null,
   "metadata": {},
   "outputs": [],
   "source": [
    "# reg.predict(X_test.iloc[0].values.reshape(1,-1))"
   ]
  },
  {
   "cell_type": "code",
   "execution_count": null,
   "metadata": {},
   "outputs": [],
   "source": [
    "# reg.predict(X_test[0:10])"
   ]
  },
  {
   "cell_type": "raw",
   "metadata": {},
   "source": []
  },
  {
   "cell_type": "code",
   "execution_count": 341,
   "metadata": {},
   "outputs": [
    {
     "data": {
      "text/html": [
       "<div>\n",
       "<style scoped>\n",
       "    .dataframe tbody tr th:only-of-type {\n",
       "        vertical-align: middle;\n",
       "    }\n",
       "\n",
       "    .dataframe tbody tr th {\n",
       "        vertical-align: top;\n",
       "    }\n",
       "\n",
       "    .dataframe thead th {\n",
       "        text-align: right;\n",
       "    }\n",
       "</style>\n",
       "<table border=\"1\" class=\"dataframe\">\n",
       "  <thead>\n",
       "    <tr style=\"text-align: right;\">\n",
       "      <th></th>\n",
       "      <th>FIRE_YEAR</th>\n",
       "      <th>STAT_CAUSE_DESCR</th>\n",
       "      <th>LATITUDE</th>\n",
       "      <th>LONGITUDE</th>\n",
       "      <th>DISCOVERY_DATE</th>\n",
       "    </tr>\n",
       "  </thead>\n",
       "  <tbody>\n",
       "    <tr>\n",
       "      <th>0</th>\n",
       "      <td>2005</td>\n",
       "      <td>Miscellaneous</td>\n",
       "      <td>40.036944</td>\n",
       "      <td>-121.005833</td>\n",
       "      <td>2453403.5</td>\n",
       "    </tr>\n",
       "    <tr>\n",
       "      <th>1</th>\n",
       "      <td>2004</td>\n",
       "      <td>Lightning</td>\n",
       "      <td>38.933056</td>\n",
       "      <td>-120.404444</td>\n",
       "      <td>2453137.5</td>\n",
       "    </tr>\n",
       "    <tr>\n",
       "      <th>2</th>\n",
       "      <td>2004</td>\n",
       "      <td>Debris Burning</td>\n",
       "      <td>38.984167</td>\n",
       "      <td>-120.735556</td>\n",
       "      <td>2453156.5</td>\n",
       "    </tr>\n",
       "    <tr>\n",
       "      <th>3</th>\n",
       "      <td>2004</td>\n",
       "      <td>Lightning</td>\n",
       "      <td>38.559167</td>\n",
       "      <td>-119.913333</td>\n",
       "      <td>2453184.5</td>\n",
       "    </tr>\n",
       "    <tr>\n",
       "      <th>4</th>\n",
       "      <td>2004</td>\n",
       "      <td>Lightning</td>\n",
       "      <td>38.559167</td>\n",
       "      <td>-119.933056</td>\n",
       "      <td>2453184.5</td>\n",
       "    </tr>\n",
       "    <tr>\n",
       "      <th>...</th>\n",
       "      <td>...</td>\n",
       "      <td>...</td>\n",
       "      <td>...</td>\n",
       "      <td>...</td>\n",
       "      <td>...</td>\n",
       "    </tr>\n",
       "    <tr>\n",
       "      <th>189545</th>\n",
       "      <td>2015</td>\n",
       "      <td>Missing/Undefined</td>\n",
       "      <td>40.481637</td>\n",
       "      <td>-122.389375</td>\n",
       "      <td>2457291.5</td>\n",
       "    </tr>\n",
       "    <tr>\n",
       "      <th>189546</th>\n",
       "      <td>2015</td>\n",
       "      <td>Miscellaneous</td>\n",
       "      <td>37.617619</td>\n",
       "      <td>-120.938570</td>\n",
       "      <td>2457300.5</td>\n",
       "    </tr>\n",
       "    <tr>\n",
       "      <th>189547</th>\n",
       "      <td>2015</td>\n",
       "      <td>Missing/Undefined</td>\n",
       "      <td>37.617619</td>\n",
       "      <td>-120.938570</td>\n",
       "      <td>2457144.5</td>\n",
       "    </tr>\n",
       "    <tr>\n",
       "      <th>189548</th>\n",
       "      <td>2015</td>\n",
       "      <td>Missing/Undefined</td>\n",
       "      <td>37.672235</td>\n",
       "      <td>-120.898356</td>\n",
       "      <td>2457309.5</td>\n",
       "    </tr>\n",
       "    <tr>\n",
       "      <th>189549</th>\n",
       "      <td>2015</td>\n",
       "      <td>Miscellaneous</td>\n",
       "      <td>34.263217</td>\n",
       "      <td>-116.830950</td>\n",
       "      <td>2457095.5</td>\n",
       "    </tr>\n",
       "  </tbody>\n",
       "</table>\n",
       "<p>189550 rows × 5 columns</p>\n",
       "</div>"
      ],
      "text/plain": [
       "        FIRE_YEAR   STAT_CAUSE_DESCR   LATITUDE   LONGITUDE  DISCOVERY_DATE\n",
       "0            2005      Miscellaneous  40.036944 -121.005833       2453403.5\n",
       "1            2004          Lightning  38.933056 -120.404444       2453137.5\n",
       "2            2004     Debris Burning  38.984167 -120.735556       2453156.5\n",
       "3            2004          Lightning  38.559167 -119.913333       2453184.5\n",
       "4            2004          Lightning  38.559167 -119.933056       2453184.5\n",
       "...           ...                ...        ...         ...             ...\n",
       "189545       2015  Missing/Undefined  40.481637 -122.389375       2457291.5\n",
       "189546       2015      Miscellaneous  37.617619 -120.938570       2457300.5\n",
       "189547       2015  Missing/Undefined  37.617619 -120.938570       2457144.5\n",
       "189548       2015  Missing/Undefined  37.672235 -120.898356       2457309.5\n",
       "189549       2015      Miscellaneous  34.263217 -116.830950       2457095.5\n",
       "\n",
       "[189550 rows x 5 columns]"
      ]
     },
     "execution_count": 341,
     "metadata": {},
     "output_type": "execute_result"
    }
   ],
   "source": [
    "# data_CA = pd.read_sql_query(\"SELECT FIRE_YEAR,STAT_CAUSE_DESCR,LATITUDE,LONGITUDE,DISCOVERY_DATE FROM 'Fires' where STATE='CA'\", conn)\n",
    "# data_CA"
   ]
  },
  {
   "cell_type": "code",
   "execution_count": 342,
   "metadata": {
    "scrolled": true
   },
   "outputs": [
    {
     "data": {
      "text/html": [
       "<div>\n",
       "<style scoped>\n",
       "    .dataframe tbody tr th:only-of-type {\n",
       "        vertical-align: middle;\n",
       "    }\n",
       "\n",
       "    .dataframe tbody tr th {\n",
       "        vertical-align: top;\n",
       "    }\n",
       "\n",
       "    .dataframe thead th {\n",
       "        text-align: right;\n",
       "    }\n",
       "</style>\n",
       "<table border=\"1\" class=\"dataframe\">\n",
       "  <thead>\n",
       "    <tr style=\"text-align: right;\">\n",
       "      <th></th>\n",
       "      <th>FIRE_YEAR</th>\n",
       "      <th>STAT_CAUSE_DESCR</th>\n",
       "      <th>LATITUDE</th>\n",
       "      <th>LONGITUDE</th>\n",
       "      <th>DISCOVERY_DATE</th>\n",
       "      <th>DATE</th>\n",
       "      <th>MONTH</th>\n",
       "      <th>DAY_OF_WEEK</th>\n",
       "    </tr>\n",
       "  </thead>\n",
       "  <tbody>\n",
       "    <tr>\n",
       "      <th>0</th>\n",
       "      <td>2005</td>\n",
       "      <td>7</td>\n",
       "      <td>40.036944</td>\n",
       "      <td>-121.005833</td>\n",
       "      <td>2453403.5</td>\n",
       "      <td>2005-02-02</td>\n",
       "      <td>1</td>\n",
       "      <td>Wednesday</td>\n",
       "    </tr>\n",
       "    <tr>\n",
       "      <th>1</th>\n",
       "      <td>2004</td>\n",
       "      <td>6</td>\n",
       "      <td>38.933056</td>\n",
       "      <td>-120.404444</td>\n",
       "      <td>2453137.5</td>\n",
       "      <td>2004-05-12</td>\n",
       "      <td>1</td>\n",
       "      <td>Wednesday</td>\n",
       "    </tr>\n",
       "    <tr>\n",
       "      <th>2</th>\n",
       "      <td>2004</td>\n",
       "      <td>3</td>\n",
       "      <td>38.984167</td>\n",
       "      <td>-120.735556</td>\n",
       "      <td>2453156.5</td>\n",
       "      <td>2004-05-31</td>\n",
       "      <td>1</td>\n",
       "      <td>Monday</td>\n",
       "    </tr>\n",
       "    <tr>\n",
       "      <th>3</th>\n",
       "      <td>2004</td>\n",
       "      <td>6</td>\n",
       "      <td>38.559167</td>\n",
       "      <td>-119.913333</td>\n",
       "      <td>2453184.5</td>\n",
       "      <td>2004-06-28</td>\n",
       "      <td>1</td>\n",
       "      <td>Monday</td>\n",
       "    </tr>\n",
       "    <tr>\n",
       "      <th>4</th>\n",
       "      <td>2004</td>\n",
       "      <td>6</td>\n",
       "      <td>38.559167</td>\n",
       "      <td>-119.933056</td>\n",
       "      <td>2453184.5</td>\n",
       "      <td>2004-06-28</td>\n",
       "      <td>1</td>\n",
       "      <td>Monday</td>\n",
       "    </tr>\n",
       "    <tr>\n",
       "      <th>...</th>\n",
       "      <td>...</td>\n",
       "      <td>...</td>\n",
       "      <td>...</td>\n",
       "      <td>...</td>\n",
       "      <td>...</td>\n",
       "      <td>...</td>\n",
       "      <td>...</td>\n",
       "      <td>...</td>\n",
       "    </tr>\n",
       "    <tr>\n",
       "      <th>189545</th>\n",
       "      <td>2015</td>\n",
       "      <td>8</td>\n",
       "      <td>40.481637</td>\n",
       "      <td>-122.389375</td>\n",
       "      <td>2457291.5</td>\n",
       "      <td>2015-09-26</td>\n",
       "      <td>1</td>\n",
       "      <td>Saturday</td>\n",
       "    </tr>\n",
       "    <tr>\n",
       "      <th>189546</th>\n",
       "      <td>2015</td>\n",
       "      <td>7</td>\n",
       "      <td>37.617619</td>\n",
       "      <td>-120.938570</td>\n",
       "      <td>2457300.5</td>\n",
       "      <td>2015-10-05</td>\n",
       "      <td>1</td>\n",
       "      <td>Monday</td>\n",
       "    </tr>\n",
       "    <tr>\n",
       "      <th>189547</th>\n",
       "      <td>2015</td>\n",
       "      <td>8</td>\n",
       "      <td>37.617619</td>\n",
       "      <td>-120.938570</td>\n",
       "      <td>2457144.5</td>\n",
       "      <td>2015-05-02</td>\n",
       "      <td>1</td>\n",
       "      <td>Saturday</td>\n",
       "    </tr>\n",
       "    <tr>\n",
       "      <th>189548</th>\n",
       "      <td>2015</td>\n",
       "      <td>8</td>\n",
       "      <td>37.672235</td>\n",
       "      <td>-120.898356</td>\n",
       "      <td>2457309.5</td>\n",
       "      <td>2015-10-14</td>\n",
       "      <td>1</td>\n",
       "      <td>Wednesday</td>\n",
       "    </tr>\n",
       "    <tr>\n",
       "      <th>189549</th>\n",
       "      <td>2015</td>\n",
       "      <td>7</td>\n",
       "      <td>34.263217</td>\n",
       "      <td>-116.830950</td>\n",
       "      <td>2457095.5</td>\n",
       "      <td>2015-03-14</td>\n",
       "      <td>1</td>\n",
       "      <td>Saturday</td>\n",
       "    </tr>\n",
       "  </tbody>\n",
       "</table>\n",
       "<p>189550 rows × 8 columns</p>\n",
       "</div>"
      ],
      "text/plain": [
       "        FIRE_YEAR  STAT_CAUSE_DESCR   LATITUDE   LONGITUDE  DISCOVERY_DATE  \\\n",
       "0            2005                 7  40.036944 -121.005833       2453403.5   \n",
       "1            2004                 6  38.933056 -120.404444       2453137.5   \n",
       "2            2004                 3  38.984167 -120.735556       2453156.5   \n",
       "3            2004                 6  38.559167 -119.913333       2453184.5   \n",
       "4            2004                 6  38.559167 -119.933056       2453184.5   \n",
       "...           ...               ...        ...         ...             ...   \n",
       "189545       2015                 8  40.481637 -122.389375       2457291.5   \n",
       "189546       2015                 7  37.617619 -120.938570       2457300.5   \n",
       "189547       2015                 8  37.617619 -120.938570       2457144.5   \n",
       "189548       2015                 8  37.672235 -120.898356       2457309.5   \n",
       "189549       2015                 7  34.263217 -116.830950       2457095.5   \n",
       "\n",
       "             DATE  MONTH DAY_OF_WEEK  \n",
       "0      2005-02-02      1   Wednesday  \n",
       "1      2004-05-12      1   Wednesday  \n",
       "2      2004-05-31      1      Monday  \n",
       "3      2004-06-28      1      Monday  \n",
       "4      2004-06-28      1      Monday  \n",
       "...           ...    ...         ...  \n",
       "189545 2015-09-26      1    Saturday  \n",
       "189546 2015-10-05      1      Monday  \n",
       "189547 2015-05-02      1    Saturday  \n",
       "189548 2015-10-14      1   Wednesday  \n",
       "189549 2015-03-14      1    Saturday  \n",
       "\n",
       "[189550 rows x 8 columns]"
      ]
     },
     "execution_count": 342,
     "metadata": {},
     "output_type": "execute_result"
    }
   ],
   "source": [
    "# le = preprocessing.LabelEncoder()\n",
    "# data_CA['STAT_CAUSE_DESCR'] = le.fit_transform(data_CA['STAT_CAUSE_DESCR'])\n",
    "# data_CA['DATE'] = pd.to_datetime(data_CA['DISCOVERY_DATE'] - pd.Timestamp(0).to_julian_date(), unit='D')\n",
    "# data_CA['MONTH'] = pd.DatetimeIndex(data_CA['DISCOVERY_DATE']).month\n",
    "# data_CA['DAY_OF_WEEK'] = data_CA['DATE'].dt.day_name()\n",
    "# data_CA"
   ]
  },
  {
   "cell_type": "code",
   "execution_count": 343,
   "metadata": {},
   "outputs": [],
   "source": [
    "# data_CA['DAY_OF_WEEK'] = le.fit_transform(data_CA['DAY_OF_WEEK'])\n",
    "# data_CA = data_CA.drop('DATE',axis=1)\n",
    "# # data_CA = data_CA.drop('STAT_CAUSE_DESCR',axis=1)\n",
    "# data_CA = data_CA.dropna()"
   ]
  },
  {
   "cell_type": "code",
   "execution_count": 331,
   "metadata": {},
   "outputs": [
    {
     "data": {
      "text/html": [
       "<div>\n",
       "<style scoped>\n",
       "    .dataframe tbody tr th:only-of-type {\n",
       "        vertical-align: middle;\n",
       "    }\n",
       "\n",
       "    .dataframe tbody tr th {\n",
       "        vertical-align: top;\n",
       "    }\n",
       "\n",
       "    .dataframe thead th {\n",
       "        text-align: right;\n",
       "    }\n",
       "</style>\n",
       "<table border=\"1\" class=\"dataframe\">\n",
       "  <thead>\n",
       "    <tr style=\"text-align: right;\">\n",
       "      <th></th>\n",
       "      <th>FIRE_YEAR</th>\n",
       "      <th>LATITUDE</th>\n",
       "      <th>LONGITUDE</th>\n",
       "      <th>DISCOVERY_DATE</th>\n",
       "      <th>MONTH</th>\n",
       "      <th>DAY_OF_WEEK</th>\n",
       "      <th>ARSON</th>\n",
       "    </tr>\n",
       "  </thead>\n",
       "  <tbody>\n",
       "    <tr>\n",
       "      <th>0</th>\n",
       "      <td>2005</td>\n",
       "      <td>40.036944</td>\n",
       "      <td>-121.005833</td>\n",
       "      <td>2453403.5</td>\n",
       "      <td>1</td>\n",
       "      <td>6</td>\n",
       "      <td>0</td>\n",
       "    </tr>\n",
       "    <tr>\n",
       "      <th>1</th>\n",
       "      <td>2004</td>\n",
       "      <td>38.933056</td>\n",
       "      <td>-120.404444</td>\n",
       "      <td>2453137.5</td>\n",
       "      <td>1</td>\n",
       "      <td>6</td>\n",
       "      <td>0</td>\n",
       "    </tr>\n",
       "    <tr>\n",
       "      <th>2</th>\n",
       "      <td>2004</td>\n",
       "      <td>38.984167</td>\n",
       "      <td>-120.735556</td>\n",
       "      <td>2453156.5</td>\n",
       "      <td>1</td>\n",
       "      <td>1</td>\n",
       "      <td>0</td>\n",
       "    </tr>\n",
       "    <tr>\n",
       "      <th>3</th>\n",
       "      <td>2004</td>\n",
       "      <td>38.559167</td>\n",
       "      <td>-119.913333</td>\n",
       "      <td>2453184.5</td>\n",
       "      <td>1</td>\n",
       "      <td>1</td>\n",
       "      <td>0</td>\n",
       "    </tr>\n",
       "    <tr>\n",
       "      <th>4</th>\n",
       "      <td>2004</td>\n",
       "      <td>38.559167</td>\n",
       "      <td>-119.933056</td>\n",
       "      <td>2453184.5</td>\n",
       "      <td>1</td>\n",
       "      <td>1</td>\n",
       "      <td>0</td>\n",
       "    </tr>\n",
       "    <tr>\n",
       "      <th>...</th>\n",
       "      <td>...</td>\n",
       "      <td>...</td>\n",
       "      <td>...</td>\n",
       "      <td>...</td>\n",
       "      <td>...</td>\n",
       "      <td>...</td>\n",
       "      <td>...</td>\n",
       "    </tr>\n",
       "    <tr>\n",
       "      <th>1880460</th>\n",
       "      <td>2015</td>\n",
       "      <td>40.481637</td>\n",
       "      <td>-122.389375</td>\n",
       "      <td>2457291.5</td>\n",
       "      <td>1</td>\n",
       "      <td>2</td>\n",
       "      <td>0</td>\n",
       "    </tr>\n",
       "    <tr>\n",
       "      <th>1880461</th>\n",
       "      <td>2015</td>\n",
       "      <td>37.617619</td>\n",
       "      <td>-120.938570</td>\n",
       "      <td>2457300.5</td>\n",
       "      <td>1</td>\n",
       "      <td>1</td>\n",
       "      <td>0</td>\n",
       "    </tr>\n",
       "    <tr>\n",
       "      <th>1880462</th>\n",
       "      <td>2015</td>\n",
       "      <td>37.617619</td>\n",
       "      <td>-120.938570</td>\n",
       "      <td>2457144.5</td>\n",
       "      <td>1</td>\n",
       "      <td>2</td>\n",
       "      <td>0</td>\n",
       "    </tr>\n",
       "    <tr>\n",
       "      <th>1880463</th>\n",
       "      <td>2015</td>\n",
       "      <td>37.672235</td>\n",
       "      <td>-120.898356</td>\n",
       "      <td>2457309.5</td>\n",
       "      <td>1</td>\n",
       "      <td>6</td>\n",
       "      <td>0</td>\n",
       "    </tr>\n",
       "    <tr>\n",
       "      <th>1880464</th>\n",
       "      <td>2015</td>\n",
       "      <td>34.263217</td>\n",
       "      <td>-116.830950</td>\n",
       "      <td>2457095.5</td>\n",
       "      <td>1</td>\n",
       "      <td>2</td>\n",
       "      <td>0</td>\n",
       "    </tr>\n",
       "  </tbody>\n",
       "</table>\n",
       "<p>1880465 rows × 7 columns</p>\n",
       "</div>"
      ],
      "text/plain": [
       "         FIRE_YEAR   LATITUDE   LONGITUDE  DISCOVERY_DATE  MONTH  DAY_OF_WEEK  \\\n",
       "0             2005  40.036944 -121.005833       2453403.5      1            6   \n",
       "1             2004  38.933056 -120.404444       2453137.5      1            6   \n",
       "2             2004  38.984167 -120.735556       2453156.5      1            1   \n",
       "3             2004  38.559167 -119.913333       2453184.5      1            1   \n",
       "4             2004  38.559167 -119.933056       2453184.5      1            1   \n",
       "...            ...        ...         ...             ...    ...          ...   \n",
       "1880460       2015  40.481637 -122.389375       2457291.5      1            2   \n",
       "1880461       2015  37.617619 -120.938570       2457300.5      1            1   \n",
       "1880462       2015  37.617619 -120.938570       2457144.5      1            2   \n",
       "1880463       2015  37.672235 -120.898356       2457309.5      1            6   \n",
       "1880464       2015  34.263217 -116.830950       2457095.5      1            2   \n",
       "\n",
       "         ARSON  \n",
       "0            0  \n",
       "1            0  \n",
       "2            0  \n",
       "3            0  \n",
       "4            0  \n",
       "...        ...  \n",
       "1880460      0  \n",
       "1880461      0  \n",
       "1880462      0  \n",
       "1880463      0  \n",
       "1880464      0  \n",
       "\n",
       "[1880465 rows x 7 columns]"
      ]
     },
     "execution_count": 331,
     "metadata": {},
     "output_type": "execute_result"
    }
   ],
   "source": [
    "# def set_arson_label(cause):\n",
    "#     arson = 0\n",
    "#     if cause == 'Arson':\n",
    "#         arson = 1\n",
    "#     return arson\n",
    "     \n",
    "\n",
    "# data_CA['ARSON'] = data_CA['STAT_CAUSE_DESCR'].apply(lambda x: set_arson_label(x)) \n",
    "# data_CA = data_CA.drop('STAT_CAUSE_DESCR',axis=1)\n",
    "# data_CA"
   ]
  },
  {
   "cell_type": "code",
   "execution_count": 332,
   "metadata": {},
   "outputs": [],
   "source": [
    "# data_CA = data_CA.dropna()\n"
   ]
  },
  {
   "cell_type": "code",
   "execution_count": 344,
   "metadata": {},
   "outputs": [
    {
     "name": "stdout",
     "output_type": "stream",
     "text": [
      "0.48043612063659547\n"
     ]
    }
   ],
   "source": [
    "# X_CA = data_CA.drop(['STAT_CAUSE_DESCR'], axis=1).values\n",
    "# y_CA = data_CA['STAT_CAUSE_DESCR'].values\n",
    "# X_train_CA, X_test_CA, y_train_CA, y_test_CA = train_test_split(X_CA,y_CA,test_size=0.3, random_state=0) #30% for testing, 70% for training\n",
    "# clf_rf = ske.RandomForestClassifier(n_estimators=200)\n",
    "# clf_rf = clf_rf.fit(X_train_CA, y_train_CA)\n",
    "# print(clf_rf.score(X_test_CA,y_test_CA))"
   ]
  },
  {
   "cell_type": "code",
   "execution_count": null,
   "metadata": {},
   "outputs": [],
   "source": []
  }
 ],
 "metadata": {
  "kernelspec": {
   "display_name": "Python 3",
   "language": "python",
   "name": "python3"
  },
  "language_info": {
   "codemirror_mode": {
    "name": "ipython",
    "version": 3
   },
   "file_extension": ".py",
   "mimetype": "text/x-python",
   "name": "python",
   "nbconvert_exporter": "python",
   "pygments_lexer": "ipython3",
   "version": "3.8.3"
  }
 },
 "nbformat": 4,
 "nbformat_minor": 4
}
